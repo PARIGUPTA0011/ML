{
  "nbformat": 4,
  "nbformat_minor": 0,
  "metadata": {
    "colab": {
      "provenance": [],
      "toc_visible": true,
      "include_colab_link": true
    },
    "kernelspec": {
      "name": "python3",
      "display_name": "Python 3"
    },
    "language_info": {
      "name": "python"
    }
  },
  "cells": [
    {
      "cell_type": "markdown",
      "metadata": {
        "id": "view-in-github",
        "colab_type": "text"
      },
      "source": [
        "<a href=\"https://colab.research.google.com/github/PARIGUPTA0011/ML/blob/main/Assignment_2__Regression_Pari_Gupta.ipynb\" target=\"_parent\"><img src=\"https://colab.research.google.com/assets/colab-badge.svg\" alt=\"Open In Colab\"/></a>"
      ]
    },
    {
      "cell_type": "markdown",
      "source": [
        "##Assignment 2\n",
        "Hi guys this is your assignment 2...This assignment test your knowledge of linear/multiple/logistic regression\n"
      ],
      "metadata": {
        "id": "v5M6XjPv4Nz3"
      }
    },
    {
      "cell_type": "markdown",
      "source": [
        "Apply the model you find the most suitable on the given datasets\n",
        "Remember (Performing EDA is must)..\n",
        "Watch videos again if you are not able to find out"
      ],
      "metadata": {
        "id": "JtNU2tKP4cA6"
      }
    },
    {
      "cell_type": "markdown",
      "source": [
        "Dataset1=Car_price(Excel file is put in the drive link )\n",
        "you will get it in github repository\n",
        "Dataset2=fastfood(in the drive link\n"
      ],
      "metadata": {
        "id": "whhrUxgR5q3R"
      }
    },
    {
      "cell_type": "markdown",
      "source": [
        "**FAST FOOD\n",
        "Algo used : Logistic Regression**\n",
        "\n"
      ],
      "metadata": {
        "id": "FcbPsfAngnPx"
      }
    },
    {
      "cell_type": "code",
      "source": [
        "#importing libraries\n",
        "import numpy as np\n",
        "\n",
        "import pandas as pd\n",
        "\n",
        "import matplotlib.pyplot as plt\n",
        "import seaborn as sns\n",
        "\n",
        "import warnings\n",
        "warnings.filterwarnings('ignore')"
      ],
      "metadata": {
        "id": "Wr2AoalE5qf-"
      },
      "execution_count": null,
      "outputs": []
    },
    {
      "cell_type": "code",
      "execution_count": null,
      "metadata": {
        "id": "NQomF-NC4Kqu",
        "outputId": "eaeec377-9f1d-40f2-cb41-e5d68c46c25c",
        "colab": {
          "base_uri": "https://localhost:8080/"
        }
      },
      "outputs": [
        {
          "output_type": "execute_result",
          "data": {
            "text/plain": [
              "(515, 17)"
            ]
          },
          "metadata": {},
          "execution_count": 137
        }
      ],
      "source": [
        "#read csv for the data set and check the shape\n",
        "data_food = pd.read_csv('fastfood.csv')\n",
        "type(data_food)\n",
        "data_food.shape"
      ]
    },
    {
      "cell_type": "code",
      "source": [
        "#print the name of columns in the data set\n",
        "data_food.columns"
      ],
      "metadata": {
        "id": "XBuwvgE54ayh",
        "outputId": "9c82bcd0-f1d0-4bdb-9397-f68b74966d85",
        "colab": {
          "base_uri": "https://localhost:8080/"
        }
      },
      "execution_count": null,
      "outputs": [
        {
          "output_type": "execute_result",
          "data": {
            "text/plain": [
              "Index(['restaurant', 'item', 'calories', 'cal_fat', 'total_fat', 'sat_fat',\n",
              "       'trans_fat', 'cholesterol', 'sodium', 'total_carb', 'fiber', 'sugar',\n",
              "       'protein', 'vit_a', 'vit_c', 'calcium', 'Healthy'],\n",
              "      dtype='object')"
            ]
          },
          "metadata": {},
          "execution_count": 138
        }
      ]
    },
    {
      "cell_type": "code",
      "source": [
        "# printing first 5 entries\n",
        "data_food.head(5)\n"
      ],
      "metadata": {
        "id": "50qo6R264axm",
        "outputId": "85e2a8fc-2cc5-4431-89e2-458efe69a2ad",
        "colab": {
          "base_uri": "https://localhost:8080/",
          "height": 521
        }
      },
      "execution_count": null,
      "outputs": [
        {
          "output_type": "execute_result",
          "data": {
            "text/plain": [
              "  restaurant                                       item  calories  cal_fat  \\\n",
              "0  Mcdonalds           Artisan Grilled Chicken Sandwich       380       60   \n",
              "1  Mcdonalds             Single Bacon Smokehouse Burger       840      410   \n",
              "2  Mcdonalds             Double Bacon Smokehouse Burger      1130      600   \n",
              "3  Mcdonalds  Grilled Bacon Smokehouse Chicken Sandwich       750      280   \n",
              "4  Mcdonalds   Crispy Bacon Smokehouse Chicken Sandwich       920      410   \n",
              "\n",
              "   total_fat  sat_fat  trans_fat  cholesterol  sodium  total_carb  fiber  \\\n",
              "0          7      2.0        0.0           95    1110          44    3.0   \n",
              "1         45     17.0        1.5          130    1580          62    2.0   \n",
              "2         67     27.0        3.0          220    1920          63    3.0   \n",
              "3         31     10.0        0.5          155    1940          62    2.0   \n",
              "4         45     12.0        0.5          120    1980          81    4.0   \n",
              "\n",
              "   sugar  protein  vit_a  vit_c  calcium  Healthy  \n",
              "0     11     37.0    4.0   20.0     20.0        1  \n",
              "1     18     46.0    6.0   20.0     20.0        0  \n",
              "2     18     70.0   10.0   20.0     50.0        0  \n",
              "3     18     55.0    6.0   25.0     20.0        1  \n",
              "4     18     46.0    6.0   20.0     20.0        0  "
            ],
            "text/html": [
              "\n",
              "  <div id=\"df-ab5bcc99-10ff-45a7-ba84-baff23f43e5f\" class=\"colab-df-container\">\n",
              "    <div>\n",
              "<style scoped>\n",
              "    .dataframe tbody tr th:only-of-type {\n",
              "        vertical-align: middle;\n",
              "    }\n",
              "\n",
              "    .dataframe tbody tr th {\n",
              "        vertical-align: top;\n",
              "    }\n",
              "\n",
              "    .dataframe thead th {\n",
              "        text-align: right;\n",
              "    }\n",
              "</style>\n",
              "<table border=\"1\" class=\"dataframe\">\n",
              "  <thead>\n",
              "    <tr style=\"text-align: right;\">\n",
              "      <th></th>\n",
              "      <th>restaurant</th>\n",
              "      <th>item</th>\n",
              "      <th>calories</th>\n",
              "      <th>cal_fat</th>\n",
              "      <th>total_fat</th>\n",
              "      <th>sat_fat</th>\n",
              "      <th>trans_fat</th>\n",
              "      <th>cholesterol</th>\n",
              "      <th>sodium</th>\n",
              "      <th>total_carb</th>\n",
              "      <th>fiber</th>\n",
              "      <th>sugar</th>\n",
              "      <th>protein</th>\n",
              "      <th>vit_a</th>\n",
              "      <th>vit_c</th>\n",
              "      <th>calcium</th>\n",
              "      <th>Healthy</th>\n",
              "    </tr>\n",
              "  </thead>\n",
              "  <tbody>\n",
              "    <tr>\n",
              "      <th>0</th>\n",
              "      <td>Mcdonalds</td>\n",
              "      <td>Artisan Grilled Chicken Sandwich</td>\n",
              "      <td>380</td>\n",
              "      <td>60</td>\n",
              "      <td>7</td>\n",
              "      <td>2.0</td>\n",
              "      <td>0.0</td>\n",
              "      <td>95</td>\n",
              "      <td>1110</td>\n",
              "      <td>44</td>\n",
              "      <td>3.0</td>\n",
              "      <td>11</td>\n",
              "      <td>37.0</td>\n",
              "      <td>4.0</td>\n",
              "      <td>20.0</td>\n",
              "      <td>20.0</td>\n",
              "      <td>1</td>\n",
              "    </tr>\n",
              "    <tr>\n",
              "      <th>1</th>\n",
              "      <td>Mcdonalds</td>\n",
              "      <td>Single Bacon Smokehouse Burger</td>\n",
              "      <td>840</td>\n",
              "      <td>410</td>\n",
              "      <td>45</td>\n",
              "      <td>17.0</td>\n",
              "      <td>1.5</td>\n",
              "      <td>130</td>\n",
              "      <td>1580</td>\n",
              "      <td>62</td>\n",
              "      <td>2.0</td>\n",
              "      <td>18</td>\n",
              "      <td>46.0</td>\n",
              "      <td>6.0</td>\n",
              "      <td>20.0</td>\n",
              "      <td>20.0</td>\n",
              "      <td>0</td>\n",
              "    </tr>\n",
              "    <tr>\n",
              "      <th>2</th>\n",
              "      <td>Mcdonalds</td>\n",
              "      <td>Double Bacon Smokehouse Burger</td>\n",
              "      <td>1130</td>\n",
              "      <td>600</td>\n",
              "      <td>67</td>\n",
              "      <td>27.0</td>\n",
              "      <td>3.0</td>\n",
              "      <td>220</td>\n",
              "      <td>1920</td>\n",
              "      <td>63</td>\n",
              "      <td>3.0</td>\n",
              "      <td>18</td>\n",
              "      <td>70.0</td>\n",
              "      <td>10.0</td>\n",
              "      <td>20.0</td>\n",
              "      <td>50.0</td>\n",
              "      <td>0</td>\n",
              "    </tr>\n",
              "    <tr>\n",
              "      <th>3</th>\n",
              "      <td>Mcdonalds</td>\n",
              "      <td>Grilled Bacon Smokehouse Chicken Sandwich</td>\n",
              "      <td>750</td>\n",
              "      <td>280</td>\n",
              "      <td>31</td>\n",
              "      <td>10.0</td>\n",
              "      <td>0.5</td>\n",
              "      <td>155</td>\n",
              "      <td>1940</td>\n",
              "      <td>62</td>\n",
              "      <td>2.0</td>\n",
              "      <td>18</td>\n",
              "      <td>55.0</td>\n",
              "      <td>6.0</td>\n",
              "      <td>25.0</td>\n",
              "      <td>20.0</td>\n",
              "      <td>1</td>\n",
              "    </tr>\n",
              "    <tr>\n",
              "      <th>4</th>\n",
              "      <td>Mcdonalds</td>\n",
              "      <td>Crispy Bacon Smokehouse Chicken Sandwich</td>\n",
              "      <td>920</td>\n",
              "      <td>410</td>\n",
              "      <td>45</td>\n",
              "      <td>12.0</td>\n",
              "      <td>0.5</td>\n",
              "      <td>120</td>\n",
              "      <td>1980</td>\n",
              "      <td>81</td>\n",
              "      <td>4.0</td>\n",
              "      <td>18</td>\n",
              "      <td>46.0</td>\n",
              "      <td>6.0</td>\n",
              "      <td>20.0</td>\n",
              "      <td>20.0</td>\n",
              "      <td>0</td>\n",
              "    </tr>\n",
              "  </tbody>\n",
              "</table>\n",
              "</div>\n",
              "    <div class=\"colab-df-buttons\">\n",
              "\n",
              "  <div class=\"colab-df-container\">\n",
              "    <button class=\"colab-df-convert\" onclick=\"convertToInteractive('df-ab5bcc99-10ff-45a7-ba84-baff23f43e5f')\"\n",
              "            title=\"Convert this dataframe to an interactive table.\"\n",
              "            style=\"display:none;\">\n",
              "\n",
              "  <svg xmlns=\"http://www.w3.org/2000/svg\" height=\"24px\" viewBox=\"0 -960 960 960\">\n",
              "    <path d=\"M120-120v-720h720v720H120Zm60-500h600v-160H180v160Zm220 220h160v-160H400v160Zm0 220h160v-160H400v160ZM180-400h160v-160H180v160Zm440 0h160v-160H620v160ZM180-180h160v-160H180v160Zm440 0h160v-160H620v160Z\"/>\n",
              "  </svg>\n",
              "    </button>\n",
              "\n",
              "  <style>\n",
              "    .colab-df-container {\n",
              "      display:flex;\n",
              "      gap: 12px;\n",
              "    }\n",
              "\n",
              "    .colab-df-convert {\n",
              "      background-color: #E8F0FE;\n",
              "      border: none;\n",
              "      border-radius: 50%;\n",
              "      cursor: pointer;\n",
              "      display: none;\n",
              "      fill: #1967D2;\n",
              "      height: 32px;\n",
              "      padding: 0 0 0 0;\n",
              "      width: 32px;\n",
              "    }\n",
              "\n",
              "    .colab-df-convert:hover {\n",
              "      background-color: #E2EBFA;\n",
              "      box-shadow: 0px 1px 2px rgba(60, 64, 67, 0.3), 0px 1px 3px 1px rgba(60, 64, 67, 0.15);\n",
              "      fill: #174EA6;\n",
              "    }\n",
              "\n",
              "    .colab-df-buttons div {\n",
              "      margin-bottom: 4px;\n",
              "    }\n",
              "\n",
              "    [theme=dark] .colab-df-convert {\n",
              "      background-color: #3B4455;\n",
              "      fill: #D2E3FC;\n",
              "    }\n",
              "\n",
              "    [theme=dark] .colab-df-convert:hover {\n",
              "      background-color: #434B5C;\n",
              "      box-shadow: 0px 1px 3px 1px rgba(0, 0, 0, 0.15);\n",
              "      filter: drop-shadow(0px 1px 2px rgba(0, 0, 0, 0.3));\n",
              "      fill: #FFFFFF;\n",
              "    }\n",
              "  </style>\n",
              "\n",
              "    <script>\n",
              "      const buttonEl =\n",
              "        document.querySelector('#df-ab5bcc99-10ff-45a7-ba84-baff23f43e5f button.colab-df-convert');\n",
              "      buttonEl.style.display =\n",
              "        google.colab.kernel.accessAllowed ? 'block' : 'none';\n",
              "\n",
              "      async function convertToInteractive(key) {\n",
              "        const element = document.querySelector('#df-ab5bcc99-10ff-45a7-ba84-baff23f43e5f');\n",
              "        const dataTable =\n",
              "          await google.colab.kernel.invokeFunction('convertToInteractive',\n",
              "                                                    [key], {});\n",
              "        if (!dataTable) return;\n",
              "\n",
              "        const docLinkHtml = 'Like what you see? Visit the ' +\n",
              "          '<a target=\"_blank\" href=https://colab.research.google.com/notebooks/data_table.ipynb>data table notebook</a>'\n",
              "          + ' to learn more about interactive tables.';\n",
              "        element.innerHTML = '';\n",
              "        dataTable['output_type'] = 'display_data';\n",
              "        await google.colab.output.renderOutput(dataTable, element);\n",
              "        const docLink = document.createElement('div');\n",
              "        docLink.innerHTML = docLinkHtml;\n",
              "        element.appendChild(docLink);\n",
              "      }\n",
              "    </script>\n",
              "  </div>\n",
              "\n",
              "\n",
              "<div id=\"df-cbde5918-30c9-4606-baf0-d8ce23dce5ee\">\n",
              "  <button class=\"colab-df-quickchart\" onclick=\"quickchart('df-cbde5918-30c9-4606-baf0-d8ce23dce5ee')\"\n",
              "            title=\"Suggest charts.\"\n",
              "            style=\"display:none;\">\n",
              "\n",
              "<svg xmlns=\"http://www.w3.org/2000/svg\" height=\"24px\"viewBox=\"0 0 24 24\"\n",
              "     width=\"24px\">\n",
              "    <g>\n",
              "        <path d=\"M19 3H5c-1.1 0-2 .9-2 2v14c0 1.1.9 2 2 2h14c1.1 0 2-.9 2-2V5c0-1.1-.9-2-2-2zM9 17H7v-7h2v7zm4 0h-2V7h2v10zm4 0h-2v-4h2v4z\"/>\n",
              "    </g>\n",
              "</svg>\n",
              "  </button>\n",
              "\n",
              "<style>\n",
              "  .colab-df-quickchart {\n",
              "      --bg-color: #E8F0FE;\n",
              "      --fill-color: #1967D2;\n",
              "      --hover-bg-color: #E2EBFA;\n",
              "      --hover-fill-color: #174EA6;\n",
              "      --disabled-fill-color: #AAA;\n",
              "      --disabled-bg-color: #DDD;\n",
              "  }\n",
              "\n",
              "  [theme=dark] .colab-df-quickchart {\n",
              "      --bg-color: #3B4455;\n",
              "      --fill-color: #D2E3FC;\n",
              "      --hover-bg-color: #434B5C;\n",
              "      --hover-fill-color: #FFFFFF;\n",
              "      --disabled-bg-color: #3B4455;\n",
              "      --disabled-fill-color: #666;\n",
              "  }\n",
              "\n",
              "  .colab-df-quickchart {\n",
              "    background-color: var(--bg-color);\n",
              "    border: none;\n",
              "    border-radius: 50%;\n",
              "    cursor: pointer;\n",
              "    display: none;\n",
              "    fill: var(--fill-color);\n",
              "    height: 32px;\n",
              "    padding: 0;\n",
              "    width: 32px;\n",
              "  }\n",
              "\n",
              "  .colab-df-quickchart:hover {\n",
              "    background-color: var(--hover-bg-color);\n",
              "    box-shadow: 0 1px 2px rgba(60, 64, 67, 0.3), 0 1px 3px 1px rgba(60, 64, 67, 0.15);\n",
              "    fill: var(--button-hover-fill-color);\n",
              "  }\n",
              "\n",
              "  .colab-df-quickchart-complete:disabled,\n",
              "  .colab-df-quickchart-complete:disabled:hover {\n",
              "    background-color: var(--disabled-bg-color);\n",
              "    fill: var(--disabled-fill-color);\n",
              "    box-shadow: none;\n",
              "  }\n",
              "\n",
              "  .colab-df-spinner {\n",
              "    border: 2px solid var(--fill-color);\n",
              "    border-color: transparent;\n",
              "    border-bottom-color: var(--fill-color);\n",
              "    animation:\n",
              "      spin 1s steps(1) infinite;\n",
              "  }\n",
              "\n",
              "  @keyframes spin {\n",
              "    0% {\n",
              "      border-color: transparent;\n",
              "      border-bottom-color: var(--fill-color);\n",
              "      border-left-color: var(--fill-color);\n",
              "    }\n",
              "    20% {\n",
              "      border-color: transparent;\n",
              "      border-left-color: var(--fill-color);\n",
              "      border-top-color: var(--fill-color);\n",
              "    }\n",
              "    30% {\n",
              "      border-color: transparent;\n",
              "      border-left-color: var(--fill-color);\n",
              "      border-top-color: var(--fill-color);\n",
              "      border-right-color: var(--fill-color);\n",
              "    }\n",
              "    40% {\n",
              "      border-color: transparent;\n",
              "      border-right-color: var(--fill-color);\n",
              "      border-top-color: var(--fill-color);\n",
              "    }\n",
              "    60% {\n",
              "      border-color: transparent;\n",
              "      border-right-color: var(--fill-color);\n",
              "    }\n",
              "    80% {\n",
              "      border-color: transparent;\n",
              "      border-right-color: var(--fill-color);\n",
              "      border-bottom-color: var(--fill-color);\n",
              "    }\n",
              "    90% {\n",
              "      border-color: transparent;\n",
              "      border-bottom-color: var(--fill-color);\n",
              "    }\n",
              "  }\n",
              "</style>\n",
              "\n",
              "  <script>\n",
              "    async function quickchart(key) {\n",
              "      const quickchartButtonEl =\n",
              "        document.querySelector('#' + key + ' button');\n",
              "      quickchartButtonEl.disabled = true;  // To prevent multiple clicks.\n",
              "      quickchartButtonEl.classList.add('colab-df-spinner');\n",
              "      try {\n",
              "        const charts = await google.colab.kernel.invokeFunction(\n",
              "            'suggestCharts', [key], {});\n",
              "      } catch (error) {\n",
              "        console.error('Error during call to suggestCharts:', error);\n",
              "      }\n",
              "      quickchartButtonEl.classList.remove('colab-df-spinner');\n",
              "      quickchartButtonEl.classList.add('colab-df-quickchart-complete');\n",
              "    }\n",
              "    (() => {\n",
              "      let quickchartButtonEl =\n",
              "        document.querySelector('#df-cbde5918-30c9-4606-baf0-d8ce23dce5ee button');\n",
              "      quickchartButtonEl.style.display =\n",
              "        google.colab.kernel.accessAllowed ? 'block' : 'none';\n",
              "    })();\n",
              "  </script>\n",
              "</div>\n",
              "    </div>\n",
              "  </div>\n"
            ]
          },
          "metadata": {},
          "execution_count": 139
        }
      ]
    },
    {
      "cell_type": "code",
      "source": [
        "#printing last 5 entries\n",
        "data_food.tail(5)\n"
      ],
      "metadata": {
        "id": "I69US6Pj4awh",
        "outputId": "cab9c2dd-c05f-4017-dfa2-e4282ed6b81b",
        "colab": {
          "base_uri": "https://localhost:8080/",
          "height": 382
        }
      },
      "execution_count": null,
      "outputs": [
        {
          "output_type": "execute_result",
          "data": {
            "text/plain": [
              "    restaurant                            item  calories  cal_fat  total_fat  \\\n",
              "510  Taco Bell  Spicy Triple Double Crunchwrap       780      340         38   \n",
              "511  Taco Bell     Express Taco Salad w/ Chips       580      260         29   \n",
              "512  Taco Bell          Fiesta Taco Salad-Beef       780      380         42   \n",
              "513  Taco Bell       Fiesta Taco Salad-Chicken       720      320         35   \n",
              "514  Taco Bell         Fiesta Taco Salad-Steak       720      320         36   \n",
              "\n",
              "     sat_fat  trans_fat  cholesterol  sodium  total_carb  fiber  sugar  \\\n",
              "510     10.0        0.5           50    1850          87    9.0      8   \n",
              "511      9.0        1.0           60    1270          59    8.0      7   \n",
              "512     10.0        1.0           60    1340          74   11.0      7   \n",
              "513      7.0        0.0           70    1260          70    8.0      8   \n",
              "514      8.0        1.0           55    1340          70    8.0      8   \n",
              "\n",
              "     protein  vit_a  vit_c  calcium  Healthy  \n",
              "510     23.0   20.0   10.0     25.0        0  \n",
              "511     23.0    NaN    NaN      NaN        0  \n",
              "512     26.0    NaN    NaN      NaN        0  \n",
              "513     32.0    NaN    NaN      NaN        0  \n",
              "514     28.0    NaN    NaN      NaN        0  "
            ],
            "text/html": [
              "\n",
              "  <div id=\"df-66968b6b-7caa-48fd-bc7e-6e0948949a99\" class=\"colab-df-container\">\n",
              "    <div>\n",
              "<style scoped>\n",
              "    .dataframe tbody tr th:only-of-type {\n",
              "        vertical-align: middle;\n",
              "    }\n",
              "\n",
              "    .dataframe tbody tr th {\n",
              "        vertical-align: top;\n",
              "    }\n",
              "\n",
              "    .dataframe thead th {\n",
              "        text-align: right;\n",
              "    }\n",
              "</style>\n",
              "<table border=\"1\" class=\"dataframe\">\n",
              "  <thead>\n",
              "    <tr style=\"text-align: right;\">\n",
              "      <th></th>\n",
              "      <th>restaurant</th>\n",
              "      <th>item</th>\n",
              "      <th>calories</th>\n",
              "      <th>cal_fat</th>\n",
              "      <th>total_fat</th>\n",
              "      <th>sat_fat</th>\n",
              "      <th>trans_fat</th>\n",
              "      <th>cholesterol</th>\n",
              "      <th>sodium</th>\n",
              "      <th>total_carb</th>\n",
              "      <th>fiber</th>\n",
              "      <th>sugar</th>\n",
              "      <th>protein</th>\n",
              "      <th>vit_a</th>\n",
              "      <th>vit_c</th>\n",
              "      <th>calcium</th>\n",
              "      <th>Healthy</th>\n",
              "    </tr>\n",
              "  </thead>\n",
              "  <tbody>\n",
              "    <tr>\n",
              "      <th>510</th>\n",
              "      <td>Taco Bell</td>\n",
              "      <td>Spicy Triple Double Crunchwrap</td>\n",
              "      <td>780</td>\n",
              "      <td>340</td>\n",
              "      <td>38</td>\n",
              "      <td>10.0</td>\n",
              "      <td>0.5</td>\n",
              "      <td>50</td>\n",
              "      <td>1850</td>\n",
              "      <td>87</td>\n",
              "      <td>9.0</td>\n",
              "      <td>8</td>\n",
              "      <td>23.0</td>\n",
              "      <td>20.0</td>\n",
              "      <td>10.0</td>\n",
              "      <td>25.0</td>\n",
              "      <td>0</td>\n",
              "    </tr>\n",
              "    <tr>\n",
              "      <th>511</th>\n",
              "      <td>Taco Bell</td>\n",
              "      <td>Express Taco Salad w/ Chips</td>\n",
              "      <td>580</td>\n",
              "      <td>260</td>\n",
              "      <td>29</td>\n",
              "      <td>9.0</td>\n",
              "      <td>1.0</td>\n",
              "      <td>60</td>\n",
              "      <td>1270</td>\n",
              "      <td>59</td>\n",
              "      <td>8.0</td>\n",
              "      <td>7</td>\n",
              "      <td>23.0</td>\n",
              "      <td>NaN</td>\n",
              "      <td>NaN</td>\n",
              "      <td>NaN</td>\n",
              "      <td>0</td>\n",
              "    </tr>\n",
              "    <tr>\n",
              "      <th>512</th>\n",
              "      <td>Taco Bell</td>\n",
              "      <td>Fiesta Taco Salad-Beef</td>\n",
              "      <td>780</td>\n",
              "      <td>380</td>\n",
              "      <td>42</td>\n",
              "      <td>10.0</td>\n",
              "      <td>1.0</td>\n",
              "      <td>60</td>\n",
              "      <td>1340</td>\n",
              "      <td>74</td>\n",
              "      <td>11.0</td>\n",
              "      <td>7</td>\n",
              "      <td>26.0</td>\n",
              "      <td>NaN</td>\n",
              "      <td>NaN</td>\n",
              "      <td>NaN</td>\n",
              "      <td>0</td>\n",
              "    </tr>\n",
              "    <tr>\n",
              "      <th>513</th>\n",
              "      <td>Taco Bell</td>\n",
              "      <td>Fiesta Taco Salad-Chicken</td>\n",
              "      <td>720</td>\n",
              "      <td>320</td>\n",
              "      <td>35</td>\n",
              "      <td>7.0</td>\n",
              "      <td>0.0</td>\n",
              "      <td>70</td>\n",
              "      <td>1260</td>\n",
              "      <td>70</td>\n",
              "      <td>8.0</td>\n",
              "      <td>8</td>\n",
              "      <td>32.0</td>\n",
              "      <td>NaN</td>\n",
              "      <td>NaN</td>\n",
              "      <td>NaN</td>\n",
              "      <td>0</td>\n",
              "    </tr>\n",
              "    <tr>\n",
              "      <th>514</th>\n",
              "      <td>Taco Bell</td>\n",
              "      <td>Fiesta Taco Salad-Steak</td>\n",
              "      <td>720</td>\n",
              "      <td>320</td>\n",
              "      <td>36</td>\n",
              "      <td>8.0</td>\n",
              "      <td>1.0</td>\n",
              "      <td>55</td>\n",
              "      <td>1340</td>\n",
              "      <td>70</td>\n",
              "      <td>8.0</td>\n",
              "      <td>8</td>\n",
              "      <td>28.0</td>\n",
              "      <td>NaN</td>\n",
              "      <td>NaN</td>\n",
              "      <td>NaN</td>\n",
              "      <td>0</td>\n",
              "    </tr>\n",
              "  </tbody>\n",
              "</table>\n",
              "</div>\n",
              "    <div class=\"colab-df-buttons\">\n",
              "\n",
              "  <div class=\"colab-df-container\">\n",
              "    <button class=\"colab-df-convert\" onclick=\"convertToInteractive('df-66968b6b-7caa-48fd-bc7e-6e0948949a99')\"\n",
              "            title=\"Convert this dataframe to an interactive table.\"\n",
              "            style=\"display:none;\">\n",
              "\n",
              "  <svg xmlns=\"http://www.w3.org/2000/svg\" height=\"24px\" viewBox=\"0 -960 960 960\">\n",
              "    <path d=\"M120-120v-720h720v720H120Zm60-500h600v-160H180v160Zm220 220h160v-160H400v160Zm0 220h160v-160H400v160ZM180-400h160v-160H180v160Zm440 0h160v-160H620v160ZM180-180h160v-160H180v160Zm440 0h160v-160H620v160Z\"/>\n",
              "  </svg>\n",
              "    </button>\n",
              "\n",
              "  <style>\n",
              "    .colab-df-container {\n",
              "      display:flex;\n",
              "      gap: 12px;\n",
              "    }\n",
              "\n",
              "    .colab-df-convert {\n",
              "      background-color: #E8F0FE;\n",
              "      border: none;\n",
              "      border-radius: 50%;\n",
              "      cursor: pointer;\n",
              "      display: none;\n",
              "      fill: #1967D2;\n",
              "      height: 32px;\n",
              "      padding: 0 0 0 0;\n",
              "      width: 32px;\n",
              "    }\n",
              "\n",
              "    .colab-df-convert:hover {\n",
              "      background-color: #E2EBFA;\n",
              "      box-shadow: 0px 1px 2px rgba(60, 64, 67, 0.3), 0px 1px 3px 1px rgba(60, 64, 67, 0.15);\n",
              "      fill: #174EA6;\n",
              "    }\n",
              "\n",
              "    .colab-df-buttons div {\n",
              "      margin-bottom: 4px;\n",
              "    }\n",
              "\n",
              "    [theme=dark] .colab-df-convert {\n",
              "      background-color: #3B4455;\n",
              "      fill: #D2E3FC;\n",
              "    }\n",
              "\n",
              "    [theme=dark] .colab-df-convert:hover {\n",
              "      background-color: #434B5C;\n",
              "      box-shadow: 0px 1px 3px 1px rgba(0, 0, 0, 0.15);\n",
              "      filter: drop-shadow(0px 1px 2px rgba(0, 0, 0, 0.3));\n",
              "      fill: #FFFFFF;\n",
              "    }\n",
              "  </style>\n",
              "\n",
              "    <script>\n",
              "      const buttonEl =\n",
              "        document.querySelector('#df-66968b6b-7caa-48fd-bc7e-6e0948949a99 button.colab-df-convert');\n",
              "      buttonEl.style.display =\n",
              "        google.colab.kernel.accessAllowed ? 'block' : 'none';\n",
              "\n",
              "      async function convertToInteractive(key) {\n",
              "        const element = document.querySelector('#df-66968b6b-7caa-48fd-bc7e-6e0948949a99');\n",
              "        const dataTable =\n",
              "          await google.colab.kernel.invokeFunction('convertToInteractive',\n",
              "                                                    [key], {});\n",
              "        if (!dataTable) return;\n",
              "\n",
              "        const docLinkHtml = 'Like what you see? Visit the ' +\n",
              "          '<a target=\"_blank\" href=https://colab.research.google.com/notebooks/data_table.ipynb>data table notebook</a>'\n",
              "          + ' to learn more about interactive tables.';\n",
              "        element.innerHTML = '';\n",
              "        dataTable['output_type'] = 'display_data';\n",
              "        await google.colab.output.renderOutput(dataTable, element);\n",
              "        const docLink = document.createElement('div');\n",
              "        docLink.innerHTML = docLinkHtml;\n",
              "        element.appendChild(docLink);\n",
              "      }\n",
              "    </script>\n",
              "  </div>\n",
              "\n",
              "\n",
              "<div id=\"df-a51985cf-20ec-4527-b1f0-19eb7be00478\">\n",
              "  <button class=\"colab-df-quickchart\" onclick=\"quickchart('df-a51985cf-20ec-4527-b1f0-19eb7be00478')\"\n",
              "            title=\"Suggest charts.\"\n",
              "            style=\"display:none;\">\n",
              "\n",
              "<svg xmlns=\"http://www.w3.org/2000/svg\" height=\"24px\"viewBox=\"0 0 24 24\"\n",
              "     width=\"24px\">\n",
              "    <g>\n",
              "        <path d=\"M19 3H5c-1.1 0-2 .9-2 2v14c0 1.1.9 2 2 2h14c1.1 0 2-.9 2-2V5c0-1.1-.9-2-2-2zM9 17H7v-7h2v7zm4 0h-2V7h2v10zm4 0h-2v-4h2v4z\"/>\n",
              "    </g>\n",
              "</svg>\n",
              "  </button>\n",
              "\n",
              "<style>\n",
              "  .colab-df-quickchart {\n",
              "      --bg-color: #E8F0FE;\n",
              "      --fill-color: #1967D2;\n",
              "      --hover-bg-color: #E2EBFA;\n",
              "      --hover-fill-color: #174EA6;\n",
              "      --disabled-fill-color: #AAA;\n",
              "      --disabled-bg-color: #DDD;\n",
              "  }\n",
              "\n",
              "  [theme=dark] .colab-df-quickchart {\n",
              "      --bg-color: #3B4455;\n",
              "      --fill-color: #D2E3FC;\n",
              "      --hover-bg-color: #434B5C;\n",
              "      --hover-fill-color: #FFFFFF;\n",
              "      --disabled-bg-color: #3B4455;\n",
              "      --disabled-fill-color: #666;\n",
              "  }\n",
              "\n",
              "  .colab-df-quickchart {\n",
              "    background-color: var(--bg-color);\n",
              "    border: none;\n",
              "    border-radius: 50%;\n",
              "    cursor: pointer;\n",
              "    display: none;\n",
              "    fill: var(--fill-color);\n",
              "    height: 32px;\n",
              "    padding: 0;\n",
              "    width: 32px;\n",
              "  }\n",
              "\n",
              "  .colab-df-quickchart:hover {\n",
              "    background-color: var(--hover-bg-color);\n",
              "    box-shadow: 0 1px 2px rgba(60, 64, 67, 0.3), 0 1px 3px 1px rgba(60, 64, 67, 0.15);\n",
              "    fill: var(--button-hover-fill-color);\n",
              "  }\n",
              "\n",
              "  .colab-df-quickchart-complete:disabled,\n",
              "  .colab-df-quickchart-complete:disabled:hover {\n",
              "    background-color: var(--disabled-bg-color);\n",
              "    fill: var(--disabled-fill-color);\n",
              "    box-shadow: none;\n",
              "  }\n",
              "\n",
              "  .colab-df-spinner {\n",
              "    border: 2px solid var(--fill-color);\n",
              "    border-color: transparent;\n",
              "    border-bottom-color: var(--fill-color);\n",
              "    animation:\n",
              "      spin 1s steps(1) infinite;\n",
              "  }\n",
              "\n",
              "  @keyframes spin {\n",
              "    0% {\n",
              "      border-color: transparent;\n",
              "      border-bottom-color: var(--fill-color);\n",
              "      border-left-color: var(--fill-color);\n",
              "    }\n",
              "    20% {\n",
              "      border-color: transparent;\n",
              "      border-left-color: var(--fill-color);\n",
              "      border-top-color: var(--fill-color);\n",
              "    }\n",
              "    30% {\n",
              "      border-color: transparent;\n",
              "      border-left-color: var(--fill-color);\n",
              "      border-top-color: var(--fill-color);\n",
              "      border-right-color: var(--fill-color);\n",
              "    }\n",
              "    40% {\n",
              "      border-color: transparent;\n",
              "      border-right-color: var(--fill-color);\n",
              "      border-top-color: var(--fill-color);\n",
              "    }\n",
              "    60% {\n",
              "      border-color: transparent;\n",
              "      border-right-color: var(--fill-color);\n",
              "    }\n",
              "    80% {\n",
              "      border-color: transparent;\n",
              "      border-right-color: var(--fill-color);\n",
              "      border-bottom-color: var(--fill-color);\n",
              "    }\n",
              "    90% {\n",
              "      border-color: transparent;\n",
              "      border-bottom-color: var(--fill-color);\n",
              "    }\n",
              "  }\n",
              "</style>\n",
              "\n",
              "  <script>\n",
              "    async function quickchart(key) {\n",
              "      const quickchartButtonEl =\n",
              "        document.querySelector('#' + key + ' button');\n",
              "      quickchartButtonEl.disabled = true;  // To prevent multiple clicks.\n",
              "      quickchartButtonEl.classList.add('colab-df-spinner');\n",
              "      try {\n",
              "        const charts = await google.colab.kernel.invokeFunction(\n",
              "            'suggestCharts', [key], {});\n",
              "      } catch (error) {\n",
              "        console.error('Error during call to suggestCharts:', error);\n",
              "      }\n",
              "      quickchartButtonEl.classList.remove('colab-df-spinner');\n",
              "      quickchartButtonEl.classList.add('colab-df-quickchart-complete');\n",
              "    }\n",
              "    (() => {\n",
              "      let quickchartButtonEl =\n",
              "        document.querySelector('#df-a51985cf-20ec-4527-b1f0-19eb7be00478 button');\n",
              "      quickchartButtonEl.style.display =\n",
              "        google.colab.kernel.accessAllowed ? 'block' : 'none';\n",
              "    })();\n",
              "  </script>\n",
              "</div>\n",
              "    </div>\n",
              "  </div>\n"
            ]
          },
          "metadata": {},
          "execution_count": 140
        }
      ]
    },
    {
      "cell_type": "markdown",
      "source": [
        "**MISSING VALUES**"
      ],
      "metadata": {
        "id": "87jFgLnlpdr4"
      }
    },
    {
      "cell_type": "code",
      "source": [
        "#finding out the missing values in the dataset\n",
        "data_food.isnull().sum()"
      ],
      "metadata": {
        "id": "mv03fasD4ava",
        "outputId": "7da84c25-7336-4f2d-cc1f-f0b617979cb3",
        "colab": {
          "base_uri": "https://localhost:8080/"
        }
      },
      "execution_count": null,
      "outputs": [
        {
          "output_type": "execute_result",
          "data": {
            "text/plain": [
              "restaurant       0\n",
              "item             0\n",
              "calories         0\n",
              "cal_fat          0\n",
              "total_fat        0\n",
              "sat_fat          0\n",
              "trans_fat        0\n",
              "cholesterol      0\n",
              "sodium           0\n",
              "total_carb       0\n",
              "fiber           12\n",
              "sugar            0\n",
              "protein          1\n",
              "vit_a          214\n",
              "vit_c          210\n",
              "calcium        210\n",
              "Healthy          0\n",
              "dtype: int64"
            ]
          },
          "metadata": {},
          "execution_count": 141
        }
      ]
    },
    {
      "cell_type": "markdown",
      "source": [
        "Hence ,\n",
        "(fiber : **12**\n",
        "vit_a : **214**\n",
        "vit_c : **210**\n",
        "\n",
        "calcium : **210**) empty values"
      ],
      "metadata": {
        "id": "PuO2Cp2j3_MA"
      }
    },
    {
      "cell_type": "markdown",
      "source": [
        "**FILLING NULL VALUES**"
      ],
      "metadata": {
        "id": "oamoxDpso7Dv"
      }
    },
    {
      "cell_type": "code",
      "source": [
        "data_food['fiber'].value_counts()\n",
        "\n"
      ],
      "metadata": {
        "id": "Lj2MGMSr4anB",
        "outputId": "22131577-a665-4b1c-99e9-2cdc84459688",
        "colab": {
          "base_uri": "https://localhost:8080/"
        }
      },
      "execution_count": null,
      "outputs": [
        {
          "output_type": "execute_result",
          "data": {
            "text/plain": [
              "2.0     102\n",
              "3.0      82\n",
              "4.0      71\n",
              "1.0      65\n",
              "5.0      64\n",
              "10.0     30\n",
              "7.0      23\n",
              "8.0      15\n",
              "6.0      14\n",
              "0.0      12\n",
              "9.0       9\n",
              "12.0      5\n",
              "16.0      3\n",
              "13.0      2\n",
              "14.0      2\n",
              "11.0      2\n",
              "15.0      1\n",
              "17.0      1\n",
              "Name: fiber, dtype: int64"
            ]
          },
          "metadata": {},
          "execution_count": 142
        }
      ]
    },
    {
      "cell_type": "code",
      "source": [
        "data_food =data_food.fillna(value='2.0 ')"
      ],
      "metadata": {
        "id": "r123eXst4akg"
      },
      "execution_count": null,
      "outputs": []
    },
    {
      "cell_type": "code",
      "source": [
        "data_food['vit_a'].value_counts()"
      ],
      "metadata": {
        "id": "0ROC9sip4aiN",
        "outputId": "02011fb2-1297-4026-8c9b-6a706c98a329",
        "colab": {
          "base_uri": "https://localhost:8080/"
        }
      },
      "execution_count": null,
      "outputs": [
        {
          "output_type": "execute_result",
          "data": {
            "text/plain": [
              "102      214\n",
              "10.0      43\n",
              "0.0       35\n",
              "15.0      30\n",
              "20.0      26\n",
              "8.0       24\n",
              "6.0       23\n",
              "2.0       20\n",
              "4.0       16\n",
              "16.0      15\n",
              "25.0      14\n",
              "50.0      13\n",
              "30.0      10\n",
              "180.0      9\n",
              "1.0        6\n",
              "60.0       6\n",
              "35.0       3\n",
              "40.0       3\n",
              "11.0       2\n",
              "17.0       1\n",
              "7.0        1\n",
              "45.0       1\n",
              "Name: vit_a, dtype: int64"
            ]
          },
          "metadata": {},
          "execution_count": 144
        }
      ]
    },
    {
      "cell_type": "code",
      "source": [
        "data_food =data_food.fillna(value='102 ')"
      ],
      "metadata": {
        "id": "H0WPjG9Asqmi"
      },
      "execution_count": null,
      "outputs": []
    },
    {
      "cell_type": "code",
      "source": [
        "data_food['vit_c'].value_counts()"
      ],
      "metadata": {
        "id": "nQ8dh9z34afd",
        "outputId": "13a4d875-2653-45a4-a6f3-3a41300fc63c",
        "colab": {
          "base_uri": "https://localhost:8080/"
        }
      },
      "execution_count": null,
      "outputs": [
        {
          "output_type": "execute_result",
          "data": {
            "text/plain": [
              "102      210\n",
              "20.0      36\n",
              "2.0       34\n",
              "8.0       30\n",
              "0.0       29\n",
              "40.0      28\n",
              "4.0       26\n",
              "6.0       23\n",
              "10.0      19\n",
              "15.0      14\n",
              "50.0      14\n",
              "60.0      11\n",
              "45.0       9\n",
              "30.0       8\n",
              "25.0       7\n",
              "70.0       5\n",
              "35.0       3\n",
              "7.0        2\n",
              "3.0        2\n",
              "1.0        1\n",
              "16.0       1\n",
              "90.0       1\n",
              "200.0      1\n",
              "400.0      1\n",
              "Name: vit_c, dtype: int64"
            ]
          },
          "metadata": {},
          "execution_count": 146
        }
      ]
    },
    {
      "cell_type": "code",
      "source": [
        "data_food =data_food.fillna(value='102 ')"
      ],
      "metadata": {
        "id": "0--nK1EoswAH"
      },
      "execution_count": null,
      "outputs": []
    },
    {
      "cell_type": "code",
      "source": [
        "data_food['calcium'].value_counts()"
      ],
      "metadata": {
        "id": "6jhqq8PE4aei",
        "outputId": "286fe9b7-b5d9-4d1a-e1d2-4802f1b561dd",
        "colab": {
          "base_uri": "https://localhost:8080/"
        }
      },
      "execution_count": null,
      "outputs": [
        {
          "output_type": "execute_result",
          "data": {
            "text/plain": [
              "102      210\n",
              "30.0      37\n",
              "15.0      35\n",
              "20.0      30\n",
              "10.0      24\n",
              "6.0       22\n",
              "35.0      20\n",
              "4.0       19\n",
              "2.0       18\n",
              "60.0      18\n",
              "25.0      16\n",
              "8.0       14\n",
              "40.0      12\n",
              "45.0       7\n",
              "80.0       5\n",
              "70.0       5\n",
              "0.0        5\n",
              "50.0       3\n",
              "100.0      3\n",
              "16.0       2\n",
              "13.0       2\n",
              "1.0        2\n",
              "90.0       2\n",
              "3.0        1\n",
              "14.0       1\n",
              "290.0      1\n",
              "27.0       1\n",
              "Name: calcium, dtype: int64"
            ]
          },
          "metadata": {},
          "execution_count": 148
        }
      ]
    },
    {
      "cell_type": "code",
      "source": [
        "data_food =data_food.fillna(value='102 ')"
      ],
      "metadata": {
        "id": "8NnMLc27s8WW"
      },
      "execution_count": null,
      "outputs": []
    },
    {
      "cell_type": "code",
      "source": [
        "data_food.tail(5)\n"
      ],
      "metadata": {
        "id": "KEW1NB1V4aZn",
        "outputId": "40c122ca-4db3-405a-9bba-00b7bdb3698e",
        "colab": {
          "base_uri": "https://localhost:8080/",
          "height": 226
        }
      },
      "execution_count": null,
      "outputs": [
        {
          "output_type": "execute_result",
          "data": {
            "text/plain": [
              "     restaurant  item  calories  cal_fat  total_fat  sat_fat  trans_fat  \\\n",
              "510           7   455       780      340         38     10.0        0.5   \n",
              "511           7   253       580      260         29      9.0        1.0   \n",
              "512           7   259       780      380         42     10.0        1.0   \n",
              "513           7   260       720      320         35      7.0        0.0   \n",
              "514           7   261       720      320         36      8.0        1.0   \n",
              "\n",
              "     cholesterol  sodium  total_carb fiber  sugar protein vit_a vit_c calcium  \\\n",
              "510           50    1850          87   9.0      8    23.0  20.0  10.0    25.0   \n",
              "511           60    1270          59   8.0      7    23.0  102   102     102    \n",
              "512           60    1340          74  11.0      7    26.0  102   102     102    \n",
              "513           70    1260          70   8.0      8    32.0  102   102     102    \n",
              "514           55    1340          70   8.0      8    28.0  102   102     102    \n",
              "\n",
              "     Healthy  \n",
              "510        0  \n",
              "511        0  \n",
              "512        0  \n",
              "513        0  \n",
              "514        0  "
            ],
            "text/html": [
              "\n",
              "  <div id=\"df-a49bb65c-46ea-4974-b63f-244cb9b4a4ed\" class=\"colab-df-container\">\n",
              "    <div>\n",
              "<style scoped>\n",
              "    .dataframe tbody tr th:only-of-type {\n",
              "        vertical-align: middle;\n",
              "    }\n",
              "\n",
              "    .dataframe tbody tr th {\n",
              "        vertical-align: top;\n",
              "    }\n",
              "\n",
              "    .dataframe thead th {\n",
              "        text-align: right;\n",
              "    }\n",
              "</style>\n",
              "<table border=\"1\" class=\"dataframe\">\n",
              "  <thead>\n",
              "    <tr style=\"text-align: right;\">\n",
              "      <th></th>\n",
              "      <th>restaurant</th>\n",
              "      <th>item</th>\n",
              "      <th>calories</th>\n",
              "      <th>cal_fat</th>\n",
              "      <th>total_fat</th>\n",
              "      <th>sat_fat</th>\n",
              "      <th>trans_fat</th>\n",
              "      <th>cholesterol</th>\n",
              "      <th>sodium</th>\n",
              "      <th>total_carb</th>\n",
              "      <th>fiber</th>\n",
              "      <th>sugar</th>\n",
              "      <th>protein</th>\n",
              "      <th>vit_a</th>\n",
              "      <th>vit_c</th>\n",
              "      <th>calcium</th>\n",
              "      <th>Healthy</th>\n",
              "    </tr>\n",
              "  </thead>\n",
              "  <tbody>\n",
              "    <tr>\n",
              "      <th>510</th>\n",
              "      <td>7</td>\n",
              "      <td>455</td>\n",
              "      <td>780</td>\n",
              "      <td>340</td>\n",
              "      <td>38</td>\n",
              "      <td>10.0</td>\n",
              "      <td>0.5</td>\n",
              "      <td>50</td>\n",
              "      <td>1850</td>\n",
              "      <td>87</td>\n",
              "      <td>9.0</td>\n",
              "      <td>8</td>\n",
              "      <td>23.0</td>\n",
              "      <td>20.0</td>\n",
              "      <td>10.0</td>\n",
              "      <td>25.0</td>\n",
              "      <td>0</td>\n",
              "    </tr>\n",
              "    <tr>\n",
              "      <th>511</th>\n",
              "      <td>7</td>\n",
              "      <td>253</td>\n",
              "      <td>580</td>\n",
              "      <td>260</td>\n",
              "      <td>29</td>\n",
              "      <td>9.0</td>\n",
              "      <td>1.0</td>\n",
              "      <td>60</td>\n",
              "      <td>1270</td>\n",
              "      <td>59</td>\n",
              "      <td>8.0</td>\n",
              "      <td>7</td>\n",
              "      <td>23.0</td>\n",
              "      <td>102</td>\n",
              "      <td>102</td>\n",
              "      <td>102</td>\n",
              "      <td>0</td>\n",
              "    </tr>\n",
              "    <tr>\n",
              "      <th>512</th>\n",
              "      <td>7</td>\n",
              "      <td>259</td>\n",
              "      <td>780</td>\n",
              "      <td>380</td>\n",
              "      <td>42</td>\n",
              "      <td>10.0</td>\n",
              "      <td>1.0</td>\n",
              "      <td>60</td>\n",
              "      <td>1340</td>\n",
              "      <td>74</td>\n",
              "      <td>11.0</td>\n",
              "      <td>7</td>\n",
              "      <td>26.0</td>\n",
              "      <td>102</td>\n",
              "      <td>102</td>\n",
              "      <td>102</td>\n",
              "      <td>0</td>\n",
              "    </tr>\n",
              "    <tr>\n",
              "      <th>513</th>\n",
              "      <td>7</td>\n",
              "      <td>260</td>\n",
              "      <td>720</td>\n",
              "      <td>320</td>\n",
              "      <td>35</td>\n",
              "      <td>7.0</td>\n",
              "      <td>0.0</td>\n",
              "      <td>70</td>\n",
              "      <td>1260</td>\n",
              "      <td>70</td>\n",
              "      <td>8.0</td>\n",
              "      <td>8</td>\n",
              "      <td>32.0</td>\n",
              "      <td>102</td>\n",
              "      <td>102</td>\n",
              "      <td>102</td>\n",
              "      <td>0</td>\n",
              "    </tr>\n",
              "    <tr>\n",
              "      <th>514</th>\n",
              "      <td>7</td>\n",
              "      <td>261</td>\n",
              "      <td>720</td>\n",
              "      <td>320</td>\n",
              "      <td>36</td>\n",
              "      <td>8.0</td>\n",
              "      <td>1.0</td>\n",
              "      <td>55</td>\n",
              "      <td>1340</td>\n",
              "      <td>70</td>\n",
              "      <td>8.0</td>\n",
              "      <td>8</td>\n",
              "      <td>28.0</td>\n",
              "      <td>102</td>\n",
              "      <td>102</td>\n",
              "      <td>102</td>\n",
              "      <td>0</td>\n",
              "    </tr>\n",
              "  </tbody>\n",
              "</table>\n",
              "</div>\n",
              "    <div class=\"colab-df-buttons\">\n",
              "\n",
              "  <div class=\"colab-df-container\">\n",
              "    <button class=\"colab-df-convert\" onclick=\"convertToInteractive('df-a49bb65c-46ea-4974-b63f-244cb9b4a4ed')\"\n",
              "            title=\"Convert this dataframe to an interactive table.\"\n",
              "            style=\"display:none;\">\n",
              "\n",
              "  <svg xmlns=\"http://www.w3.org/2000/svg\" height=\"24px\" viewBox=\"0 -960 960 960\">\n",
              "    <path d=\"M120-120v-720h720v720H120Zm60-500h600v-160H180v160Zm220 220h160v-160H400v160Zm0 220h160v-160H400v160ZM180-400h160v-160H180v160Zm440 0h160v-160H620v160ZM180-180h160v-160H180v160Zm440 0h160v-160H620v160Z\"/>\n",
              "  </svg>\n",
              "    </button>\n",
              "\n",
              "  <style>\n",
              "    .colab-df-container {\n",
              "      display:flex;\n",
              "      gap: 12px;\n",
              "    }\n",
              "\n",
              "    .colab-df-convert {\n",
              "      background-color: #E8F0FE;\n",
              "      border: none;\n",
              "      border-radius: 50%;\n",
              "      cursor: pointer;\n",
              "      display: none;\n",
              "      fill: #1967D2;\n",
              "      height: 32px;\n",
              "      padding: 0 0 0 0;\n",
              "      width: 32px;\n",
              "    }\n",
              "\n",
              "    .colab-df-convert:hover {\n",
              "      background-color: #E2EBFA;\n",
              "      box-shadow: 0px 1px 2px rgba(60, 64, 67, 0.3), 0px 1px 3px 1px rgba(60, 64, 67, 0.15);\n",
              "      fill: #174EA6;\n",
              "    }\n",
              "\n",
              "    .colab-df-buttons div {\n",
              "      margin-bottom: 4px;\n",
              "    }\n",
              "\n",
              "    [theme=dark] .colab-df-convert {\n",
              "      background-color: #3B4455;\n",
              "      fill: #D2E3FC;\n",
              "    }\n",
              "\n",
              "    [theme=dark] .colab-df-convert:hover {\n",
              "      background-color: #434B5C;\n",
              "      box-shadow: 0px 1px 3px 1px rgba(0, 0, 0, 0.15);\n",
              "      filter: drop-shadow(0px 1px 2px rgba(0, 0, 0, 0.3));\n",
              "      fill: #FFFFFF;\n",
              "    }\n",
              "  </style>\n",
              "\n",
              "    <script>\n",
              "      const buttonEl =\n",
              "        document.querySelector('#df-a49bb65c-46ea-4974-b63f-244cb9b4a4ed button.colab-df-convert');\n",
              "      buttonEl.style.display =\n",
              "        google.colab.kernel.accessAllowed ? 'block' : 'none';\n",
              "\n",
              "      async function convertToInteractive(key) {\n",
              "        const element = document.querySelector('#df-a49bb65c-46ea-4974-b63f-244cb9b4a4ed');\n",
              "        const dataTable =\n",
              "          await google.colab.kernel.invokeFunction('convertToInteractive',\n",
              "                                                    [key], {});\n",
              "        if (!dataTable) return;\n",
              "\n",
              "        const docLinkHtml = 'Like what you see? Visit the ' +\n",
              "          '<a target=\"_blank\" href=https://colab.research.google.com/notebooks/data_table.ipynb>data table notebook</a>'\n",
              "          + ' to learn more about interactive tables.';\n",
              "        element.innerHTML = '';\n",
              "        dataTable['output_type'] = 'display_data';\n",
              "        await google.colab.output.renderOutput(dataTable, element);\n",
              "        const docLink = document.createElement('div');\n",
              "        docLink.innerHTML = docLinkHtml;\n",
              "        element.appendChild(docLink);\n",
              "      }\n",
              "    </script>\n",
              "  </div>\n",
              "\n",
              "\n",
              "<div id=\"df-ba75c5eb-9190-4f0e-9905-be4b972a0a34\">\n",
              "  <button class=\"colab-df-quickchart\" onclick=\"quickchart('df-ba75c5eb-9190-4f0e-9905-be4b972a0a34')\"\n",
              "            title=\"Suggest charts.\"\n",
              "            style=\"display:none;\">\n",
              "\n",
              "<svg xmlns=\"http://www.w3.org/2000/svg\" height=\"24px\"viewBox=\"0 0 24 24\"\n",
              "     width=\"24px\">\n",
              "    <g>\n",
              "        <path d=\"M19 3H5c-1.1 0-2 .9-2 2v14c0 1.1.9 2 2 2h14c1.1 0 2-.9 2-2V5c0-1.1-.9-2-2-2zM9 17H7v-7h2v7zm4 0h-2V7h2v10zm4 0h-2v-4h2v4z\"/>\n",
              "    </g>\n",
              "</svg>\n",
              "  </button>\n",
              "\n",
              "<style>\n",
              "  .colab-df-quickchart {\n",
              "      --bg-color: #E8F0FE;\n",
              "      --fill-color: #1967D2;\n",
              "      --hover-bg-color: #E2EBFA;\n",
              "      --hover-fill-color: #174EA6;\n",
              "      --disabled-fill-color: #AAA;\n",
              "      --disabled-bg-color: #DDD;\n",
              "  }\n",
              "\n",
              "  [theme=dark] .colab-df-quickchart {\n",
              "      --bg-color: #3B4455;\n",
              "      --fill-color: #D2E3FC;\n",
              "      --hover-bg-color: #434B5C;\n",
              "      --hover-fill-color: #FFFFFF;\n",
              "      --disabled-bg-color: #3B4455;\n",
              "      --disabled-fill-color: #666;\n",
              "  }\n",
              "\n",
              "  .colab-df-quickchart {\n",
              "    background-color: var(--bg-color);\n",
              "    border: none;\n",
              "    border-radius: 50%;\n",
              "    cursor: pointer;\n",
              "    display: none;\n",
              "    fill: var(--fill-color);\n",
              "    height: 32px;\n",
              "    padding: 0;\n",
              "    width: 32px;\n",
              "  }\n",
              "\n",
              "  .colab-df-quickchart:hover {\n",
              "    background-color: var(--hover-bg-color);\n",
              "    box-shadow: 0 1px 2px rgba(60, 64, 67, 0.3), 0 1px 3px 1px rgba(60, 64, 67, 0.15);\n",
              "    fill: var(--button-hover-fill-color);\n",
              "  }\n",
              "\n",
              "  .colab-df-quickchart-complete:disabled,\n",
              "  .colab-df-quickchart-complete:disabled:hover {\n",
              "    background-color: var(--disabled-bg-color);\n",
              "    fill: var(--disabled-fill-color);\n",
              "    box-shadow: none;\n",
              "  }\n",
              "\n",
              "  .colab-df-spinner {\n",
              "    border: 2px solid var(--fill-color);\n",
              "    border-color: transparent;\n",
              "    border-bottom-color: var(--fill-color);\n",
              "    animation:\n",
              "      spin 1s steps(1) infinite;\n",
              "  }\n",
              "\n",
              "  @keyframes spin {\n",
              "    0% {\n",
              "      border-color: transparent;\n",
              "      border-bottom-color: var(--fill-color);\n",
              "      border-left-color: var(--fill-color);\n",
              "    }\n",
              "    20% {\n",
              "      border-color: transparent;\n",
              "      border-left-color: var(--fill-color);\n",
              "      border-top-color: var(--fill-color);\n",
              "    }\n",
              "    30% {\n",
              "      border-color: transparent;\n",
              "      border-left-color: var(--fill-color);\n",
              "      border-top-color: var(--fill-color);\n",
              "      border-right-color: var(--fill-color);\n",
              "    }\n",
              "    40% {\n",
              "      border-color: transparent;\n",
              "      border-right-color: var(--fill-color);\n",
              "      border-top-color: var(--fill-color);\n",
              "    }\n",
              "    60% {\n",
              "      border-color: transparent;\n",
              "      border-right-color: var(--fill-color);\n",
              "    }\n",
              "    80% {\n",
              "      border-color: transparent;\n",
              "      border-right-color: var(--fill-color);\n",
              "      border-bottom-color: var(--fill-color);\n",
              "    }\n",
              "    90% {\n",
              "      border-color: transparent;\n",
              "      border-bottom-color: var(--fill-color);\n",
              "    }\n",
              "  }\n",
              "</style>\n",
              "\n",
              "  <script>\n",
              "    async function quickchart(key) {\n",
              "      const quickchartButtonEl =\n",
              "        document.querySelector('#' + key + ' button');\n",
              "      quickchartButtonEl.disabled = true;  // To prevent multiple clicks.\n",
              "      quickchartButtonEl.classList.add('colab-df-spinner');\n",
              "      try {\n",
              "        const charts = await google.colab.kernel.invokeFunction(\n",
              "            'suggestCharts', [key], {});\n",
              "      } catch (error) {\n",
              "        console.error('Error during call to suggestCharts:', error);\n",
              "      }\n",
              "      quickchartButtonEl.classList.remove('colab-df-spinner');\n",
              "      quickchartButtonEl.classList.add('colab-df-quickchart-complete');\n",
              "    }\n",
              "    (() => {\n",
              "      let quickchartButtonEl =\n",
              "        document.querySelector('#df-ba75c5eb-9190-4f0e-9905-be4b972a0a34 button');\n",
              "      quickchartButtonEl.style.display =\n",
              "        google.colab.kernel.accessAllowed ? 'block' : 'none';\n",
              "    })();\n",
              "  </script>\n",
              "</div>\n",
              "    </div>\n",
              "  </div>\n"
            ]
          },
          "metadata": {},
          "execution_count": 214
        }
      ]
    },
    {
      "cell_type": "code",
      "source": [
        "data_food.isnull().sum()"
      ],
      "metadata": {
        "id": "RcBHbxPt4aXM",
        "outputId": "fc7eff9f-2226-44a7-d344-bded5fb8d858",
        "colab": {
          "base_uri": "https://localhost:8080/"
        }
      },
      "execution_count": null,
      "outputs": [
        {
          "output_type": "execute_result",
          "data": {
            "text/plain": [
              "restaurant     0\n",
              "item           0\n",
              "calories       0\n",
              "cal_fat        0\n",
              "total_fat      0\n",
              "sat_fat        0\n",
              "trans_fat      0\n",
              "cholesterol    0\n",
              "sodium         0\n",
              "total_carb     0\n",
              "fiber          0\n",
              "sugar          0\n",
              "protein        0\n",
              "vit_a          0\n",
              "vit_c          0\n",
              "calcium        0\n",
              "Healthy        0\n",
              "dtype: int64"
            ]
          },
          "metadata": {},
          "execution_count": 211
        }
      ]
    },
    {
      "cell_type": "markdown",
      "source": [
        "empty values are filled"
      ],
      "metadata": {
        "id": "iucI9K4p5TmB"
      }
    },
    {
      "cell_type": "code",
      "source": [
        "#plotting a graph for No. of items available in each restaurant\n",
        "plt.figure(figsize=(10,6))\n",
        "\n",
        "# data_food['item'].value_counts().plot(kind='bar')\n",
        "sns.countplot(x=data_food['restaurant'])\n",
        "plt.xlabel(\"restaurant\")\n",
        "plt.ylabel(\"No. of items available\")\n",
        "plt.show"
      ],
      "metadata": {
        "id": "SgXYhYtuu1MP",
        "outputId": "956a135d-8642-4a31-8e5b-ff21140a1269",
        "colab": {
          "base_uri": "https://localhost:8080/",
          "height": 561
        }
      },
      "execution_count": null,
      "outputs": [
        {
          "output_type": "execute_result",
          "data": {
            "text/plain": [
              "<function matplotlib.pyplot.show(close=None, block=None)>"
            ]
          },
          "metadata": {},
          "execution_count": 213
        },
        {
          "output_type": "display_data",
          "data": {
            "text/plain": [
              "<Figure size 1000x600 with 1 Axes>"
            ],
            "image/png": "[encoded data removed]"
          },
          "metadata": {}
        }
      ]
    },
    {
      "cell_type": "code",
      "source": [
        "#a graph for Healthy and non healthy no of items\n",
        "plt.figure(figsize=(10,6))\n",
        "\n",
        "# data_food['item'].value_counts().plot(kind='bar')\n",
        "sns.countplot(x=data_food['Healthy'])\n",
        "plt.xlabel(\"healthy:1 / not healthy:0\")\n",
        "plt.ylabel(\"No. of items\")\n",
        "plt.show"
      ],
      "metadata": {
        "id": "HrWdv3Qc4aUr",
        "outputId": "5ec8a470-0c91-464c-9a19-fea38ee27c13",
        "colab": {
          "base_uri": "https://localhost:8080/",
          "height": 559
        }
      },
      "execution_count": null,
      "outputs": [
        {
          "output_type": "execute_result",
          "data": {
            "text/plain": [
              "<function matplotlib.pyplot.show(close=None, block=None)>"
            ]
          },
          "metadata": {},
          "execution_count": 153
        },
        {
          "output_type": "display_data",
          "data": {
            "text/plain": [
              "<Figure size 1000x600 with 1 Axes>"
            ],
            "image/png": "[encoded data removed]"
          },
          "metadata": {}
        }
      ]
    },
    {
      "cell_type": "code",
      "source": [
        "\n",
        "#assigning numeric values to string eg name of a restaurant Mcdonalds : 4\n",
        "data_food['restaurant'] = data_food['restaurant'].astype('category')\n",
        "data_food['restaurant'] = data_food['restaurant'].cat.codes\n",
        "\n",
        "data_food['item'] = data_food['item'].astype('category')\n",
        "data_food['item'] = data_food['item'].cat.codes\n",
        "\n",
        "data_food.head(5)"
      ],
      "metadata": {
        "colab": {
          "base_uri": "https://localhost:8080/",
          "height": 226
        },
        "id": "0QKx_-d3kon7",
        "outputId": "5a529e1d-d289-4be4-939f-d094b76efd69"
      },
      "execution_count": null,
      "outputs": [
        {
          "output_type": "execute_result",
          "data": {
            "text/plain": [
              "   restaurant  item  calories  cal_fat  total_fat  sat_fat  trans_fat  \\\n",
              "0           4    91       380       60          7      2.0        0.0   \n",
              "1           4   420       840      410         45     17.0        1.5   \n",
              "2           4   242      1130      600         67     27.0        3.0   \n",
              "3           4   313       750      280         31     10.0        0.5   \n",
              "4           4   211       920      410         45     12.0        0.5   \n",
              "\n",
              "   cholesterol  sodium  total_carb fiber  sugar protein vit_a vit_c calcium  \\\n",
              "0           95    1110          44   3.0     11    37.0   4.0  20.0    20.0   \n",
              "1          130    1580          62   2.0     18    46.0   6.0  20.0    20.0   \n",
              "2          220    1920          63   3.0     18    70.0  10.0  20.0    50.0   \n",
              "3          155    1940          62   2.0     18    55.0   6.0  25.0    20.0   \n",
              "4          120    1980          81   4.0     18    46.0   6.0  20.0    20.0   \n",
              "\n",
              "   Healthy  \n",
              "0        1  \n",
              "1        0  \n",
              "2        0  \n",
              "3        1  \n",
              "4        0  "
            ],
            "text/html": [
              "\n",
              "  <div id=\"df-4ffc1c7d-2756-4b8a-8771-3f718a598a28\" class=\"colab-df-container\">\n",
              "    <div>\n",
              "<style scoped>\n",
              "    .dataframe tbody tr th:only-of-type {\n",
              "        vertical-align: middle;\n",
              "    }\n",
              "\n",
              "    .dataframe tbody tr th {\n",
              "        vertical-align: top;\n",
              "    }\n",
              "\n",
              "    .dataframe thead th {\n",
              "        text-align: right;\n",
              "    }\n",
              "</style>\n",
              "<table border=\"1\" class=\"dataframe\">\n",
              "  <thead>\n",
              "    <tr style=\"text-align: right;\">\n",
              "      <th></th>\n",
              "      <th>restaurant</th>\n",
              "      <th>item</th>\n",
              "      <th>calories</th>\n",
              "      <th>cal_fat</th>\n",
              "      <th>total_fat</th>\n",
              "      <th>sat_fat</th>\n",
              "      <th>trans_fat</th>\n",
              "      <th>cholesterol</th>\n",
              "      <th>sodium</th>\n",
              "      <th>total_carb</th>\n",
              "      <th>fiber</th>\n",
              "      <th>sugar</th>\n",
              "      <th>protein</th>\n",
              "      <th>vit_a</th>\n",
              "      <th>vit_c</th>\n",
              "      <th>calcium</th>\n",
              "      <th>Healthy</th>\n",
              "    </tr>\n",
              "  </thead>\n",
              "  <tbody>\n",
              "    <tr>\n",
              "      <th>0</th>\n",
              "      <td>4</td>\n",
              "      <td>91</td>\n",
              "      <td>380</td>\n",
              "      <td>60</td>\n",
              "      <td>7</td>\n",
              "      <td>2.0</td>\n",
              "      <td>0.0</td>\n",
              "      <td>95</td>\n",
              "      <td>1110</td>\n",
              "      <td>44</td>\n",
              "      <td>3.0</td>\n",
              "      <td>11</td>\n",
              "      <td>37.0</td>\n",
              "      <td>4.0</td>\n",
              "      <td>20.0</td>\n",
              "      <td>20.0</td>\n",
              "      <td>1</td>\n",
              "    </tr>\n",
              "    <tr>\n",
              "      <th>1</th>\n",
              "      <td>4</td>\n",
              "      <td>420</td>\n",
              "      <td>840</td>\n",
              "      <td>410</td>\n",
              "      <td>45</td>\n",
              "      <td>17.0</td>\n",
              "      <td>1.5</td>\n",
              "      <td>130</td>\n",
              "      <td>1580</td>\n",
              "      <td>62</td>\n",
              "      <td>2.0</td>\n",
              "      <td>18</td>\n",
              "      <td>46.0</td>\n",
              "      <td>6.0</td>\n",
              "      <td>20.0</td>\n",
              "      <td>20.0</td>\n",
              "      <td>0</td>\n",
              "    </tr>\n",
              "    <tr>\n",
              "      <th>2</th>\n",
              "      <td>4</td>\n",
              "      <td>242</td>\n",
              "      <td>1130</td>\n",
              "      <td>600</td>\n",
              "      <td>67</td>\n",
              "      <td>27.0</td>\n",
              "      <td>3.0</td>\n",
              "      <td>220</td>\n",
              "      <td>1920</td>\n",
              "      <td>63</td>\n",
              "      <td>3.0</td>\n",
              "      <td>18</td>\n",
              "      <td>70.0</td>\n",
              "      <td>10.0</td>\n",
              "      <td>20.0</td>\n",
              "      <td>50.0</td>\n",
              "      <td>0</td>\n",
              "    </tr>\n",
              "    <tr>\n",
              "      <th>3</th>\n",
              "      <td>4</td>\n",
              "      <td>313</td>\n",
              "      <td>750</td>\n",
              "      <td>280</td>\n",
              "      <td>31</td>\n",
              "      <td>10.0</td>\n",
              "      <td>0.5</td>\n",
              "      <td>155</td>\n",
              "      <td>1940</td>\n",
              "      <td>62</td>\n",
              "      <td>2.0</td>\n",
              "      <td>18</td>\n",
              "      <td>55.0</td>\n",
              "      <td>6.0</td>\n",
              "      <td>25.0</td>\n",
              "      <td>20.0</td>\n",
              "      <td>1</td>\n",
              "    </tr>\n",
              "    <tr>\n",
              "      <th>4</th>\n",
              "      <td>4</td>\n",
              "      <td>211</td>\n",
              "      <td>920</td>\n",
              "      <td>410</td>\n",
              "      <td>45</td>\n",
              "      <td>12.0</td>\n",
              "      <td>0.5</td>\n",
              "      <td>120</td>\n",
              "      <td>1980</td>\n",
              "      <td>81</td>\n",
              "      <td>4.0</td>\n",
              "      <td>18</td>\n",
              "      <td>46.0</td>\n",
              "      <td>6.0</td>\n",
              "      <td>20.0</td>\n",
              "      <td>20.0</td>\n",
              "      <td>0</td>\n",
              "    </tr>\n",
              "  </tbody>\n",
              "</table>\n",
              "</div>\n",
              "    <div class=\"colab-df-buttons\">\n",
              "\n",
              "  <div class=\"colab-df-container\">\n",
              "    <button class=\"colab-df-convert\" onclick=\"convertToInteractive('df-4ffc1c7d-2756-4b8a-8771-3f718a598a28')\"\n",
              "            title=\"Convert this dataframe to an interactive table.\"\n",
              "            style=\"display:none;\">\n",
              "\n",
              "  <svg xmlns=\"http://www.w3.org/2000/svg\" height=\"24px\" viewBox=\"0 -960 960 960\">\n",
              "    <path d=\"M120-120v-720h720v720H120Zm60-500h600v-160H180v160Zm220 220h160v-160H400v160Zm0 220h160v-160H400v160ZM180-400h160v-160H180v160Zm440 0h160v-160H620v160ZM180-180h160v-160H180v160Zm440 0h160v-160H620v160Z\"/>\n",
              "  </svg>\n",
              "    </button>\n",
              "\n",
              "  <style>\n",
              "    .colab-df-container {\n",
              "      display:flex;\n",
              "      gap: 12px;\n",
              "    }\n",
              "\n",
              "    .colab-df-convert {\n",
              "      background-color: #E8F0FE;\n",
              "      border: none;\n",
              "      border-radius: 50%;\n",
              "      cursor: pointer;\n",
              "      display: none;\n",
              "      fill: #1967D2;\n",
              "      height: 32px;\n",
              "      padding: 0 0 0 0;\n",
              "      width: 32px;\n",
              "    }\n",
              "\n",
              "    .colab-df-convert:hover {\n",
              "      background-color: #E2EBFA;\n",
              "      box-shadow: 0px 1px 2px rgba(60, 64, 67, 0.3), 0px 1px 3px 1px rgba(60, 64, 67, 0.15);\n",
              "      fill: #174EA6;\n",
              "    }\n",
              "\n",
              "    .colab-df-buttons div {\n",
              "      margin-bottom: 4px;\n",
              "    }\n",
              "\n",
              "    [theme=dark] .colab-df-convert {\n",
              "      background-color: #3B4455;\n",
              "      fill: #D2E3FC;\n",
              "    }\n",
              "\n",
              "    [theme=dark] .colab-df-convert:hover {\n",
              "      background-color: #434B5C;\n",
              "      box-shadow: 0px 1px 3px 1px rgba(0, 0, 0, 0.15);\n",
              "      filter: drop-shadow(0px 1px 2px rgba(0, 0, 0, 0.3));\n",
              "      fill: #FFFFFF;\n",
              "    }\n",
              "  </style>\n",
              "\n",
              "    <script>\n",
              "      const buttonEl =\n",
              "        document.querySelector('#df-4ffc1c7d-2756-4b8a-8771-3f718a598a28 button.colab-df-convert');\n",
              "      buttonEl.style.display =\n",
              "        google.colab.kernel.accessAllowed ? 'block' : 'none';\n",
              "\n",
              "      async function convertToInteractive(key) {\n",
              "        const element = document.querySelector('#df-4ffc1c7d-2756-4b8a-8771-3f718a598a28');\n",
              "        const dataTable =\n",
              "          await google.colab.kernel.invokeFunction('convertToInteractive',\n",
              "                                                    [key], {});\n",
              "        if (!dataTable) return;\n",
              "\n",
              "        const docLinkHtml = 'Like what you see? Visit the ' +\n",
              "          '<a target=\"_blank\" href=https://colab.research.google.com/notebooks/data_table.ipynb>data table notebook</a>'\n",
              "          + ' to learn more about interactive tables.';\n",
              "        element.innerHTML = '';\n",
              "        dataTable['output_type'] = 'display_data';\n",
              "        await google.colab.output.renderOutput(dataTable, element);\n",
              "        const docLink = document.createElement('div');\n",
              "        docLink.innerHTML = docLinkHtml;\n",
              "        element.appendChild(docLink);\n",
              "      }\n",
              "    </script>\n",
              "  </div>\n",
              "\n",
              "\n",
              "<div id=\"df-131baded-48ca-4f84-88a8-ac0361b1e5d9\">\n",
              "  <button class=\"colab-df-quickchart\" onclick=\"quickchart('df-131baded-48ca-4f84-88a8-ac0361b1e5d9')\"\n",
              "            title=\"Suggest charts.\"\n",
              "            style=\"display:none;\">\n",
              "\n",
              "<svg xmlns=\"http://www.w3.org/2000/svg\" height=\"24px\"viewBox=\"0 0 24 24\"\n",
              "     width=\"24px\">\n",
              "    <g>\n",
              "        <path d=\"M19 3H5c-1.1 0-2 .9-2 2v14c0 1.1.9 2 2 2h14c1.1 0 2-.9 2-2V5c0-1.1-.9-2-2-2zM9 17H7v-7h2v7zm4 0h-2V7h2v10zm4 0h-2v-4h2v4z\"/>\n",
              "    </g>\n",
              "</svg>\n",
              "  </button>\n",
              "\n",
              "<style>\n",
              "  .colab-df-quickchart {\n",
              "      --bg-color: #E8F0FE;\n",
              "      --fill-color: #1967D2;\n",
              "      --hover-bg-color: #E2EBFA;\n",
              "      --hover-fill-color: #174EA6;\n",
              "      --disabled-fill-color: #AAA;\n",
              "      --disabled-bg-color: #DDD;\n",
              "  }\n",
              "\n",
              "  [theme=dark] .colab-df-quickchart {\n",
              "      --bg-color: #3B4455;\n",
              "      --fill-color: #D2E3FC;\n",
              "      --hover-bg-color: #434B5C;\n",
              "      --hover-fill-color: #FFFFFF;\n",
              "      --disabled-bg-color: #3B4455;\n",
              "      --disabled-fill-color: #666;\n",
              "  }\n",
              "\n",
              "  .colab-df-quickchart {\n",
              "    background-color: var(--bg-color);\n",
              "    border: none;\n",
              "    border-radius: 50%;\n",
              "    cursor: pointer;\n",
              "    display: none;\n",
              "    fill: var(--fill-color);\n",
              "    height: 32px;\n",
              "    padding: 0;\n",
              "    width: 32px;\n",
              "  }\n",
              "\n",
              "  .colab-df-quickchart:hover {\n",
              "    background-color: var(--hover-bg-color);\n",
              "    box-shadow: 0 1px 2px rgba(60, 64, 67, 0.3), 0 1px 3px 1px rgba(60, 64, 67, 0.15);\n",
              "    fill: var(--button-hover-fill-color);\n",
              "  }\n",
              "\n",
              "  .colab-df-quickchart-complete:disabled,\n",
              "  .colab-df-quickchart-complete:disabled:hover {\n",
              "    background-color: var(--disabled-bg-color);\n",
              "    fill: var(--disabled-fill-color);\n",
              "    box-shadow: none;\n",
              "  }\n",
              "\n",
              "  .colab-df-spinner {\n",
              "    border: 2px solid var(--fill-color);\n",
              "    border-color: transparent;\n",
              "    border-bottom-color: var(--fill-color);\n",
              "    animation:\n",
              "      spin 1s steps(1) infinite;\n",
              "  }\n",
              "\n",
              "  @keyframes spin {\n",
              "    0% {\n",
              "      border-color: transparent;\n",
              "      border-bottom-color: var(--fill-color);\n",
              "      border-left-color: var(--fill-color);\n",
              "    }\n",
              "    20% {\n",
              "      border-color: transparent;\n",
              "      border-left-color: var(--fill-color);\n",
              "      border-top-color: var(--fill-color);\n",
              "    }\n",
              "    30% {\n",
              "      border-color: transparent;\n",
              "      border-left-color: var(--fill-color);\n",
              "      border-top-color: var(--fill-color);\n",
              "      border-right-color: var(--fill-color);\n",
              "    }\n",
              "    40% {\n",
              "      border-color: transparent;\n",
              "      border-right-color: var(--fill-color);\n",
              "      border-top-color: var(--fill-color);\n",
              "    }\n",
              "    60% {\n",
              "      border-color: transparent;\n",
              "      border-right-color: var(--fill-color);\n",
              "    }\n",
              "    80% {\n",
              "      border-color: transparent;\n",
              "      border-right-color: var(--fill-color);\n",
              "      border-bottom-color: var(--fill-color);\n",
              "    }\n",
              "    90% {\n",
              "      border-color: transparent;\n",
              "      border-bottom-color: var(--fill-color);\n",
              "    }\n",
              "  }\n",
              "</style>\n",
              "\n",
              "  <script>\n",
              "    async function quickchart(key) {\n",
              "      const quickchartButtonEl =\n",
              "        document.querySelector('#' + key + ' button');\n",
              "      quickchartButtonEl.disabled = true;  // To prevent multiple clicks.\n",
              "      quickchartButtonEl.classList.add('colab-df-spinner');\n",
              "      try {\n",
              "        const charts = await google.colab.kernel.invokeFunction(\n",
              "            'suggestCharts', [key], {});\n",
              "      } catch (error) {\n",
              "        console.error('Error during call to suggestCharts:', error);\n",
              "      }\n",
              "      quickchartButtonEl.classList.remove('colab-df-spinner');\n",
              "      quickchartButtonEl.classList.add('colab-df-quickchart-complete');\n",
              "    }\n",
              "    (() => {\n",
              "      let quickchartButtonEl =\n",
              "        document.querySelector('#df-131baded-48ca-4f84-88a8-ac0361b1e5d9 button');\n",
              "      quickchartButtonEl.style.display =\n",
              "        google.colab.kernel.accessAllowed ? 'block' : 'none';\n",
              "    })();\n",
              "  </script>\n",
              "</div>\n",
              "    </div>\n",
              "  </div>\n"
            ]
          },
          "metadata": {},
          "execution_count": 215
        }
      ]
    },
    {
      "cell_type": "code",
      "source": [
        "data_food.columns\n"
      ],
      "metadata": {
        "colab": {
          "base_uri": "https://localhost:8080/"
        },
        "id": "BckZtuuwkoVs",
        "outputId": "a326023b-62f9-46bf-fb65-3126e06b0347"
      },
      "execution_count": null,
      "outputs": [
        {
          "output_type": "execute_result",
          "data": {
            "text/plain": [
              "Index(['restaurant', 'item', 'calories', 'cal_fat', 'total_fat', 'sat_fat',\n",
              "       'trans_fat', 'cholesterol', 'sodium', 'total_carb', 'fiber', 'sugar',\n",
              "       'protein', 'vit_a', 'vit_c', 'calcium', 'Healthy'],\n",
              "      dtype='object')"
            ]
          },
          "metadata": {},
          "execution_count": 155
        }
      ]
    },
    {
      "cell_type": "markdown",
      "source": [
        "**MODEL TRAINING**"
      ],
      "metadata": {
        "id": "pAOog_zJ0IMY"
      }
    },
    {
      "cell_type": "code",
      "source": [
        "from sklearn.model_selection import train_test_split"
      ],
      "metadata": {
        "id": "7TfwMD4P4aSP"
      },
      "execution_count": null,
      "outputs": []
    },
    {
      "cell_type": "code",
      "source": [
        "x = data_food.drop(['Healthy'], axis = 1).values\n"
      ],
      "metadata": {
        "id": "vhS-mD-24aP3"
      },
      "execution_count": null,
      "outputs": []
    },
    {
      "cell_type": "code",
      "source": [
        "y = data_food['Healthy'].values"
      ],
      "metadata": {
        "id": "OxCBfDki4aNK"
      },
      "execution_count": null,
      "outputs": []
    },
    {
      "cell_type": "code",
      "source": [
        "x_train, x_test, y_train, y_test=train_test_split(x, y, test_size=0.3, random_state=21) #spilitting the data set into Training : 70% and Testing : 30%"
      ],
      "metadata": {
        "id": "r1gT_QkNqvjg"
      },
      "execution_count": null,
      "outputs": []
    },
    {
      "cell_type": "code",
      "source": [
        "x_train.shape\n"
      ],
      "metadata": {
        "colab": {
          "base_uri": "https://localhost:8080/"
        },
        "id": "qzTtfghuqvf6",
        "outputId": "4a125a7e-dcc0-4a0e-c595-30bdf88878ea"
      },
      "execution_count": null,
      "outputs": [
        {
          "output_type": "execute_result",
          "data": {
            "text/plain": [
              "(360, 16)"
            ]
          },
          "metadata": {},
          "execution_count": 177
        }
      ]
    },
    {
      "cell_type": "code",
      "source": [
        "y_train.shape"
      ],
      "metadata": {
        "colab": {
          "base_uri": "https://localhost:8080/"
        },
        "id": "llfESlr_qvdY",
        "outputId": "2659b7d2-d24a-4987-f6f4-ab0ab8e6c35f"
      },
      "execution_count": null,
      "outputs": [
        {
          "output_type": "execute_result",
          "data": {
            "text/plain": [
              "(360,)"
            ]
          },
          "metadata": {},
          "execution_count": 169
        }
      ]
    },
    {
      "cell_type": "code",
      "source": [
        "x_train #Independent Variable values in Training dataset"
      ],
      "metadata": {
        "colab": {
          "base_uri": "https://localhost:8080/"
        },
        "id": "-ox9PSSUwbr1",
        "outputId": "aeb21052-4fc7-477d-a34f-6159cb62c83e"
      },
      "execution_count": null,
      "outputs": [
        {
          "output_type": "execute_result",
          "data": {
            "text/plain": [
              "array([[7, 163, 490, ..., '102 ', '102 ', '102 '],\n",
              "       [1, 439, 840, ..., '102 ', '102 ', '102 '],\n",
              "       [0, 329, 300, ..., 2.0, 0.0, 15.0],\n",
              "       ...,\n",
              "       [6, 92, 300, ..., 40.0, 40.0, 15.0],\n",
              "       [4, 386, 140, ..., 180.0, 45.0, 10.0],\n",
              "       [1, 333, 550, ..., '102 ', '102 ', '102 ']], dtype=object)"
            ]
          },
          "metadata": {},
          "execution_count": 178
        }
      ]
    },
    {
      "cell_type": "code",
      "source": [
        " x_test  #Independent Variable values in Testing dataset"
      ],
      "metadata": {
        "colab": {
          "base_uri": "https://localhost:8080/"
        },
        "id": "BlrAkmWcwjm2",
        "outputId": "e736f9d4-ed5d-468f-f0c4-f8af9f31c6de"
      },
      "execution_count": null,
      "outputs": [
        {
          "output_type": "execute_result",
          "data": {
            "text/plain": [
              "array([[0, 467, 720, ..., '102 ', '102 ', '102 '],\n",
              "       [4, 357, 640, ..., 6.0, 15.0, 15.0],\n",
              "       [7, 376, 700, ..., 15.0, 6.0, 25.0],\n",
              "       ...,\n",
              "       [6, 412, 730, ..., 15.0, 8.0, 45.0],\n",
              "       [0, 491, 980, ..., '102 ', '102 ', '102 '],\n",
              "       [1, 17, 950, ..., '102 ', '102 ', '102 ']], dtype=object)"
            ]
          },
          "metadata": {},
          "execution_count": 217
        }
      ]
    },
    {
      "cell_type": "code",
      "source": [
        "y_train  #dependent Variable values in Training dataset"
      ],
      "metadata": {
        "colab": {
          "base_uri": "https://localhost:8080/"
        },
        "id": "TZMDf0Jbwe9c",
        "outputId": "b87309b6-d1fe-4594-f33d-97429d6af2c0"
      },
      "execution_count": null,
      "outputs": [
        {
          "output_type": "execute_result",
          "data": {
            "text/plain": [
              "array([ 0,  0,  1,  0,  0,  1,  1,  0,  0,  0,  0,  1,  1,  1,  0,  0,  0,\n",
              "        0,  0,  1,  0,  1,  0,  0,  1,  1,  0,  0,  1,  0,  1,  0,  1,  1,\n",
              "        1,  0,  0,  1,  0,  0,  0,  0,  1,  0,  0,  0,  1,  0,  0,  0,  0,\n",
              "        1,  0,  0,  1,  1,  1,  1,  1,  0,  1,  1,  1,  0,  0,  1,  1,  1,\n",
              "        0,  0,  1,  0,  0,  0,  1,  0,  0,  0,  0,  0,  0,  0,  0,  1,  0,\n",
              "        0,  0,  0,  0,  0,  1,  0,  1,  0,  1,  0,  1,  1,  0,  1,  1,  1,\n",
              "        0,  0,  1,  0,  1,  1,  0,  1,  0,  1,  0,  1,  0,  0,  0,  0,  0,\n",
              "        0,  1,  1,  1,  0,  0,  1,  1,  1,  0,  1,  1,  1,  0,  0,  0,  0,\n",
              "        1,  0,  0,  1,  1,  1,  0,  1,  1,  1,  0,  1,  1,  0,  0,  1,  1,\n",
              "        1,  0,  0,  1,  0,  1,  0,  0,  1,  0,  0,  1,  0,  1,  1,  1,  0,\n",
              "        0,  1,  1,  0,  0,  0,  1,  0,  0,  1,  0,  1,  1,  1,  0,  0,  1,\n",
              "        1,  1,  0,  0,  1,  0,  1,  0,  1,  1,  1,  0,  1,  1,  1,  1,  1,\n",
              "        1,  1,  0,  1,  0,  0,  1,  0,  1,  0,  1,  1,  0,  1,  0,  0,  1,\n",
              "        1,  0, 80,  0,  1,  1,  0,  1,  0,  1,  1,  1,  1,  1,  1,  1,  1,\n",
              "        1,  1,  1,  1,  0,  1,  1,  1,  1,  0,  1,  0,  1,  0,  0,  0,  0,\n",
              "        1,  1,  1,  1,  1,  1,  0,  1,  0,  1,  0,  0,  1,  0,  1,  0,  0,\n",
              "        0,  0,  0,  0,  0,  0,  1,  1,  0,  0,  0,  0,  1,  0,  1,  0,  1,\n",
              "        0,  1,  0,  1,  1,  1,  1,  1,  0,  0,  1,  1,  1,  0,  1,  1,  0,\n",
              "        1,  1,  0,  1,  1,  0,  1,  1,  0,  0,  0,  0,  1,  1,  0,  0,  0,\n",
              "        0,  1,  0,  1,  1,  0,  0,  0,  1,  0,  1,  0,  1,  0,  1,  1,  0,\n",
              "        1,  0,  0,  1,  1,  0,  0,  0,  1,  0,  0,  1,  1,  0,  0,  0,  0,\n",
              "        1,  1,  0])"
            ]
          },
          "metadata": {},
          "execution_count": 180
        }
      ]
    },
    {
      "cell_type": "code",
      "source": [
        "y_test   #dependent Variable values in Testing dataset"
      ],
      "metadata": {
        "colab": {
          "base_uri": "https://localhost:8080/"
        },
        "id": "mK4_13BRwl4Z",
        "outputId": "bf847e55-2d9c-4bff-f4d3-b5d624356a3a"
      },
      "execution_count": null,
      "outputs": [
        {
          "output_type": "execute_result",
          "data": {
            "text/plain": [
              "array([0, 0, 0, 0, 0, 1, 1, 1, 1, 1, 0, 0, 1, 1, 1, 1, 1, 1, 0, 0, 1, 0,\n",
              "       1, 1, 1, 1, 1, 0, 1, 1, 1, 1, 0, 0, 1, 1, 1, 1, 1, 0, 0, 0, 0, 0,\n",
              "       0, 1, 0, 0, 0, 1, 0, 1, 1, 0, 0, 0, 1, 1, 1, 0, 0, 1, 1, 1, 1, 0,\n",
              "       0, 1, 1, 1, 1, 1, 1, 0, 1, 0, 0, 0, 0, 1, 0, 1, 0, 0, 1, 1, 0, 0,\n",
              "       1, 1, 0, 1, 1, 0, 1, 0, 0, 1, 1, 0, 1, 0, 1, 1, 1, 0, 1, 1, 1, 0,\n",
              "       0, 1, 1, 0, 0, 0, 1, 1, 1, 0, 0, 1, 1, 1, 1, 0, 1, 1, 0, 1, 0, 0,\n",
              "       0, 0, 1, 0, 1, 1, 0, 1, 0, 0, 1, 0, 0, 0, 1, 1, 0, 1, 0, 1, 0, 0,\n",
              "       0])"
            ]
          },
          "metadata": {},
          "execution_count": 181
        }
      ]
    },
    {
      "cell_type": "code",
      "source": [
        "from sklearn.preprocessing import StandardScaler\n",
        "scaler=StandardScaler()\n",
        "x_train_scaled=scaler.fit_transform(x_train)\n",
        "x_test_scaled=scaler.transform(x_test)\n"
      ],
      "metadata": {
        "id": "junVSjHLqvaj"
      },
      "execution_count": null,
      "outputs": []
    },
    {
      "cell_type": "code",
      "source": [
        "x_train_scaled"
      ],
      "metadata": {
        "colab": {
          "base_uri": "https://localhost:8080/"
        },
        "id": "EFK4SZT9qvXy",
        "outputId": "3c4f5dda-b00a-40fd-ee3b-09af00530f08"
      },
      "execution_count": null,
      "outputs": [
        {
          "output_type": "execute_result",
          "data": {
            "text/plain": [
              "array([[ 1.18079528, -0.59426733, -0.13812038, ...,  1.01108166,\n",
              "         0.98018793,  1.03175747],\n",
              "       [-1.2459581 ,  1.34193419,  1.12664472, ...,  1.01108166,\n",
              "         0.98018793,  1.03175747],\n",
              "       [-1.65041699,  0.57025967, -0.82470715, ..., -1.08901872,\n",
              "        -1.14954585, -0.97686038],\n",
              "       ...,\n",
              "       [ 0.77633638, -1.09234815, -0.82470715, ..., -0.29098058,\n",
              "        -0.31435613, -0.97686038],\n",
              "       [-0.03258141,  0.97012738, -1.40288548, ...,  2.64915997,\n",
              "        -0.20995742, -1.09229819],\n",
              "       [-1.2459581 ,  0.59832057,  0.0786965 , ...,  1.01108166,\n",
              "         0.98018793,  1.03175747]])"
            ]
          },
          "metadata": {},
          "execution_count": 183
        }
      ]
    },
    {
      "cell_type": "code",
      "source": [
        "x_test_scaled"
      ],
      "metadata": {
        "colab": {
          "base_uri": "https://localhost:8080/"
        },
        "id": "NhhfblyBqvVF",
        "outputId": "67b84f57-9e5a-4e4b-cd61-36790f1aa174"
      },
      "execution_count": null,
      "outputs": [
        {
          "output_type": "execute_result",
          "data": {
            "text/plain": [
              "array([[-1.65041699,  1.53836043,  0.69301097, ...,  1.01108166,\n",
              "         0.98018793,  1.03175747],\n",
              "       [-0.03258141,  0.76668592,  0.40392181, ..., -1.00501471,\n",
              "        -0.8363497 , -0.97686038],\n",
              "       [ 1.18079528,  0.89997515,  0.62073868, ..., -0.81600567,\n",
              "        -1.02426739, -0.74598477],\n",
              "       ...,\n",
              "       [ 0.77633638,  1.15252317,  0.72914712, ..., -0.81600567,\n",
              "        -0.9825079 , -0.28423354],\n",
              "       [-1.65041699,  1.70672578,  1.63255076, ...,  1.01108166,\n",
              "         0.98018793,  1.03175747],\n",
              "       [-1.2459581 , -1.61848987,  1.52414232, ...,  1.01108166,\n",
              "         0.98018793,  1.03175747]])"
            ]
          },
          "metadata": {},
          "execution_count": 184
        }
      ]
    },
    {
      "cell_type": "code",
      "source": [
        "from sklearn.linear_model import LogisticRegression"
      ],
      "metadata": {
        "id": "op9-ejKoqvSD"
      },
      "execution_count": null,
      "outputs": []
    },
    {
      "cell_type": "code",
      "source": [
        "Model = LogisticRegression(random_state=0).fit(x_train_scaled , y_train)"
      ],
      "metadata": {
        "id": "_AIS39K0qvPR"
      },
      "execution_count": null,
      "outputs": []
    },
    {
      "cell_type": "code",
      "source": [
        "y_pred_train = Model.predict(x_train_scaled) #Predicting values of our dependent varible (Healthy) using the Training dataset and check the accuracy"
      ],
      "metadata": {
        "id": "VsPRN3qbqvMS"
      },
      "execution_count": null,
      "outputs": []
    },
    {
      "cell_type": "code",
      "source": [
        "Model.score(x_train_scaled,y_train) #Model is 94.7% accurate wile predicting values of dependent variable in the Training dataset"
      ],
      "metadata": {
        "colab": {
          "base_uri": "https://localhost:8080/"
        },
        "id": "pxJKCWL5qvJq",
        "outputId": "eadaf3fe-555e-4ba1-ad97-32b09eb0eba7"
      },
      "execution_count": null,
      "outputs": [
        {
          "output_type": "execute_result",
          "data": {
            "text/plain": [
              "0.9472222222222222"
            ]
          },
          "metadata": {},
          "execution_count": 189
        }
      ]
    },
    {
      "cell_type": "code",
      "source": [
        "y_pred_test = Model.score(x_test_scaled,y_test) #Model is 94.8% accurate while predicting values of dependent variable in the testing dataset"
      ],
      "metadata": {
        "id": "5TA-LSY5qvG_"
      },
      "execution_count": null,
      "outputs": []
    },
    {
      "cell_type": "code",
      "source": [
        "# to improve the model:\n",
        "Model1 = LogisticRegression(random_state=0, C=1, fit_intercept=True).fit(x_train_scaled, y_train)\n"
      ],
      "metadata": {
        "id": "MbQbIv5yqvEJ"
      },
      "execution_count": null,
      "outputs": []
    },
    {
      "cell_type": "code",
      "source": [
        "Model1.score(x_train_scaled,y_train) # changing the parameters didnt work for this model as much in order to improve"
      ],
      "metadata": {
        "colab": {
          "base_uri": "https://localhost:8080/"
        },
        "id": "SIxZpZL7qvBU",
        "outputId": "00fa702f-5228-4cf5-e788-6573304577f8"
      },
      "execution_count": null,
      "outputs": [
        {
          "output_type": "execute_result",
          "data": {
            "text/plain": [
              "0.9472222222222222"
            ]
          },
          "metadata": {},
          "execution_count": 219
        }
      ]
    },
    {
      "cell_type": "code",
      "source": [
        "Model.score(x_test_scaled,y_test)  # changing the parameters didnt work for this model as much in order to improve"
      ],
      "metadata": {
        "colab": {
          "base_uri": "https://localhost:8080/"
        },
        "id": "c0_WqiFRqu-p",
        "outputId": "6541db5a-64bb-45da-88e3-52f9e793f2a7"
      },
      "execution_count": null,
      "outputs": [
        {
          "output_type": "execute_result",
          "data": {
            "text/plain": [
              "0.9483870967741935"
            ]
          },
          "metadata": {},
          "execution_count": 220
        }
      ]
    },
    {
      "cell_type": "markdown",
      "source": [
        "**PLOTTING A GRAPH SHOWING IN LOGISTIC REGRESSION OUTPUT RANGES FROM 0 TO 1 AND COMES OUT TO BE AS A SIGMOID FUNCTION**"
      ],
      "metadata": {
        "id": "nDID65ec9lqM"
      }
    },
    {
      "cell_type": "code",
      "source": [
        "plt.figure(figsize=(5,5))\n",
        "plt.scatter(y_train,y_pred_train)\n",
        "\n",
        "plt.xlabel('Actual')\n",
        "plt.ylabel('Predicted')\n",
        "plt.title('Actual v/s Predicted(TRAINING)')\n",
        "\n",
        "plt.show()"
      ],
      "metadata": {
        "colab": {
          "base_uri": "https://localhost:8080/",
          "height": 487
        },
        "id": "_DYkRKIGqu79",
        "outputId": "c31614eb-fc6c-477b-f5b9-84f52006f87d"
      },
      "execution_count": null,
      "outputs": [
        {
          "output_type": "display_data",
          "data": {
            "text/plain": [
              "<Figure size 500x500 with 1 Axes>"
            ],
            "image/png": "[encoded data removed]"
          },
          "metadata": {}
        }
      ]
    },
    {
      "cell_type": "markdown",
      "source": [
        "**CAR PRICE\n",
        "using MULTIPLE LINEAR REGRESSION**\n",
        "\n"
      ],
      "metadata": {
        "id": "t2CRZqZ-QAC5"
      }
    },
    {
      "cell_type": "code",
      "source": [
        "#importing libraries\n",
        "import numpy as np\n",
        "import pandas as pd\n",
        "\n",
        "import matplotlib.pyplot as plt\n",
        "import seaborn as sns\n",
        "\n",
        "import warnings\n",
        "warnings.filterwarnings('ignore')"
      ],
      "metadata": {
        "id": "vMDwHpLp4aKX"
      },
      "execution_count": null,
      "outputs": []
    },
    {
      "cell_type": "code",
      "source": [
        "#read the csv file\n",
        "data_carprice = pd.read_csv('CarPrice_Assignment.csv')\n",
        "\n",
        "type(data_carprice)\n",
        "data_carprice.shape"
      ],
      "metadata": {
        "id": "XByyu1Jl4aH0",
        "colab": {
          "base_uri": "https://localhost:8080/"
        },
        "outputId": "7342e01c-7550-43a1-a863-70073827d035"
      },
      "execution_count": null,
      "outputs": [
        {
          "output_type": "execute_result",
          "data": {
            "text/plain": [
              "(205, 26)"
            ]
          },
          "metadata": {},
          "execution_count": 10
        }
      ]
    },
    {
      "cell_type": "code",
      "source": [
        "#print the name of columns in the data set\n",
        "data_carprice.columns"
      ],
      "metadata": {
        "colab": {
          "base_uri": "https://localhost:8080/"
        },
        "id": "WRk0j4EvP0mz",
        "outputId": "bdf9ece7-949c-4303-989b-ddd7d46d6f38"
      },
      "execution_count": null,
      "outputs": [
        {
          "output_type": "execute_result",
          "data": {
            "text/plain": [
              "Index(['car_ID', 'symboling', 'CarName', 'fueltype', 'aspiration',\n",
              "       'doornumber', 'carbody', 'drivewheel', 'enginelocation', 'wheelbase',\n",
              "       'carlength', 'carwidth', 'carheight', 'curbweight', 'enginetype',\n",
              "       'cylindernumber', 'enginesize', 'fuelsystem', 'boreratio', 'stroke',\n",
              "       'compressionratio', 'horsepower', 'peakrpm', 'citympg', 'highwaympg',\n",
              "       'price'],\n",
              "      dtype='object')"
            ]
          },
          "metadata": {},
          "execution_count": 12
        }
      ]
    },
    {
      "cell_type": "code",
      "source": [
        "# printing first 5 entries\n",
        "data_carprice.head(5)"
      ],
      "metadata": {
        "colab": {
          "base_uri": "https://localhost:8080/",
          "height": 307
        },
        "id": "l4wsr-a0P0jN",
        "outputId": "17f87183-6a86-4f05-8968-52c7fbbe4931"
      },
      "execution_count": null,
      "outputs": [
        {
          "output_type": "execute_result",
          "data": {
            "text/plain": [
              "   car_ID  symboling                   CarName fueltype aspiration doornumber  \\\n",
              "0       1          3        alfa-romero giulia      gas        std        two   \n",
              "1       2          3       alfa-romero stelvio      gas        std        two   \n",
              "2       3          1  alfa-romero Quadrifoglio      gas        std        two   \n",
              "3       4          2               audi 100 ls      gas        std       four   \n",
              "4       5          2                audi 100ls      gas        std       four   \n",
              "\n",
              "       carbody drivewheel enginelocation  wheelbase  ...  enginesize  \\\n",
              "0  convertible        rwd          front       88.6  ...         130   \n",
              "1  convertible        rwd          front       88.6  ...         130   \n",
              "2    hatchback        rwd          front       94.5  ...         152   \n",
              "3        sedan        fwd          front       99.8  ...         109   \n",
              "4        sedan        4wd          front       99.4  ...         136   \n",
              "\n",
              "   fuelsystem  boreratio  stroke compressionratio horsepower  peakrpm citympg  \\\n",
              "0        mpfi       3.47    2.68              9.0        111     5000      21   \n",
              "1        mpfi       3.47    2.68              9.0        111     5000      21   \n",
              "2        mpfi       2.68    3.47              9.0        154     5000      19   \n",
              "3        mpfi       3.19    3.40             10.0        102     5500      24   \n",
              "4        mpfi       3.19    3.40              8.0        115     5500      18   \n",
              "\n",
              "   highwaympg    price  \n",
              "0          27  13495.0  \n",
              "1          27  16500.0  \n",
              "2          26  16500.0  \n",
              "3          30  13950.0  \n",
              "4          22  17450.0  \n",
              "\n",
              "[5 rows x 26 columns]"
            ],
            "text/html": [
              "\n",
              "  <div id=\"df-264e0677-7a53-4607-ae1c-95abdcace6c6\" class=\"colab-df-container\">\n",
              "    <div>\n",
              "<style scoped>\n",
              "    .dataframe tbody tr th:only-of-type {\n",
              "        vertical-align: middle;\n",
              "    }\n",
              "\n",
              "    .dataframe tbody tr th {\n",
              "        vertical-align: top;\n",
              "    }\n",
              "\n",
              "    .dataframe thead th {\n",
              "        text-align: right;\n",
              "    }\n",
              "</style>\n",
              "<table border=\"1\" class=\"dataframe\">\n",
              "  <thead>\n",
              "    <tr style=\"text-align: right;\">\n",
              "      <th></th>\n",
              "      <th>car_ID</th>\n",
              "      <th>symboling</th>\n",
              "      <th>CarName</th>\n",
              "      <th>fueltype</th>\n",
              "      <th>aspiration</th>\n",
              "      <th>doornumber</th>\n",
              "      <th>carbody</th>\n",
              "      <th>drivewheel</th>\n",
              "      <th>enginelocation</th>\n",
              "      <th>wheelbase</th>\n",
              "      <th>...</th>\n",
              "      <th>enginesize</th>\n",
              "      <th>fuelsystem</th>\n",
              "      <th>boreratio</th>\n",
              "      <th>stroke</th>\n",
              "      <th>compressionratio</th>\n",
              "      <th>horsepower</th>\n",
              "      <th>peakrpm</th>\n",
              "      <th>citympg</th>\n",
              "      <th>highwaympg</th>\n",
              "      <th>price</th>\n",
              "    </tr>\n",
              "  </thead>\n",
              "  <tbody>\n",
              "    <tr>\n",
              "      <th>0</th>\n",
              "      <td>1</td>\n",
              "      <td>3</td>\n",
              "      <td>alfa-romero giulia</td>\n",
              "      <td>gas</td>\n",
              "      <td>std</td>\n",
              "      <td>two</td>\n",
              "      <td>convertible</td>\n",
              "      <td>rwd</td>\n",
              "      <td>front</td>\n",
              "      <td>88.6</td>\n",
              "      <td>...</td>\n",
              "      <td>130</td>\n",
              "      <td>mpfi</td>\n",
              "      <td>3.47</td>\n",
              "      <td>2.68</td>\n",
              "      <td>9.0</td>\n",
              "      <td>111</td>\n",
              "      <td>5000</td>\n",
              "      <td>21</td>\n",
              "      <td>27</td>\n",
              "      <td>13495.0</td>\n",
              "    </tr>\n",
              "    <tr>\n",
              "      <th>1</th>\n",
              "      <td>2</td>\n",
              "      <td>3</td>\n",
              "      <td>alfa-romero stelvio</td>\n",
              "      <td>gas</td>\n",
              "      <td>std</td>\n",
              "      <td>two</td>\n",
              "      <td>convertible</td>\n",
              "      <td>rwd</td>\n",
              "      <td>front</td>\n",
              "      <td>88.6</td>\n",
              "      <td>...</td>\n",
              "      <td>130</td>\n",
              "      <td>mpfi</td>\n",
              "      <td>3.47</td>\n",
              "      <td>2.68</td>\n",
              "      <td>9.0</td>\n",
              "      <td>111</td>\n",
              "      <td>5000</td>\n",
              "      <td>21</td>\n",
              "      <td>27</td>\n",
              "      <td>16500.0</td>\n",
              "    </tr>\n",
              "    <tr>\n",
              "      <th>2</th>\n",
              "      <td>3</td>\n",
              "      <td>1</td>\n",
              "      <td>alfa-romero Quadrifoglio</td>\n",
              "      <td>gas</td>\n",
              "      <td>std</td>\n",
              "      <td>two</td>\n",
              "      <td>hatchback</td>\n",
              "      <td>rwd</td>\n",
              "      <td>front</td>\n",
              "      <td>94.5</td>\n",
              "      <td>...</td>\n",
              "      <td>152</td>\n",
              "      <td>mpfi</td>\n",
              "      <td>2.68</td>\n",
              "      <td>3.47</td>\n",
              "      <td>9.0</td>\n",
              "      <td>154</td>\n",
              "      <td>5000</td>\n",
              "      <td>19</td>\n",
              "      <td>26</td>\n",
              "      <td>16500.0</td>\n",
              "    </tr>\n",
              "    <tr>\n",
              "      <th>3</th>\n",
              "      <td>4</td>\n",
              "      <td>2</td>\n",
              "      <td>audi 100 ls</td>\n",
              "      <td>gas</td>\n",
              "      <td>std</td>\n",
              "      <td>four</td>\n",
              "      <td>sedan</td>\n",
              "      <td>fwd</td>\n",
              "      <td>front</td>\n",
              "      <td>99.8</td>\n",
              "      <td>...</td>\n",
              "      <td>109</td>\n",
              "      <td>mpfi</td>\n",
              "      <td>3.19</td>\n",
              "      <td>3.40</td>\n",
              "      <td>10.0</td>\n",
              "      <td>102</td>\n",
              "      <td>5500</td>\n",
              "      <td>24</td>\n",
              "      <td>30</td>\n",
              "      <td>13950.0</td>\n",
              "    </tr>\n",
              "    <tr>\n",
              "      <th>4</th>\n",
              "      <td>5</td>\n",
              "      <td>2</td>\n",
              "      <td>audi 100ls</td>\n",
              "      <td>gas</td>\n",
              "      <td>std</td>\n",
              "      <td>four</td>\n",
              "      <td>sedan</td>\n",
              "      <td>4wd</td>\n",
              "      <td>front</td>\n",
              "      <td>99.4</td>\n",
              "      <td>...</td>\n",
              "      <td>136</td>\n",
              "      <td>mpfi</td>\n",
              "      <td>3.19</td>\n",
              "      <td>3.40</td>\n",
              "      <td>8.0</td>\n",
              "      <td>115</td>\n",
              "      <td>5500</td>\n",
              "      <td>18</td>\n",
              "      <td>22</td>\n",
              "      <td>17450.0</td>\n",
              "    </tr>\n",
              "  </tbody>\n",
              "</table>\n",
              "<p>5 rows × 26 columns</p>\n",
              "</div>\n",
              "    <div class=\"colab-df-buttons\">\n",
              "\n",
              "  <div class=\"colab-df-container\">\n",
              "    <button class=\"colab-df-convert\" onclick=\"convertToInteractive('df-264e0677-7a53-4607-ae1c-95abdcace6c6')\"\n",
              "            title=\"Convert this dataframe to an interactive table.\"\n",
              "            style=\"display:none;\">\n",
              "\n",
              "  <svg xmlns=\"http://www.w3.org/2000/svg\" height=\"24px\" viewBox=\"0 -960 960 960\">\n",
              "    <path d=\"M120-120v-720h720v720H120Zm60-500h600v-160H180v160Zm220 220h160v-160H400v160Zm0 220h160v-160H400v160ZM180-400h160v-160H180v160Zm440 0h160v-160H620v160ZM180-180h160v-160H180v160Zm440 0h160v-160H620v160Z\"/>\n",
              "  </svg>\n",
              "    </button>\n",
              "\n",
              "  <style>\n",
              "    .colab-df-container {\n",
              "      display:flex;\n",
              "      gap: 12px;\n",
              "    }\n",
              "\n",
              "    .colab-df-convert {\n",
              "      background-color: #E8F0FE;\n",
              "      border: none;\n",
              "      border-radius: 50%;\n",
              "      cursor: pointer;\n",
              "      display: none;\n",
              "      fill: #1967D2;\n",
              "      height: 32px;\n",
              "      padding: 0 0 0 0;\n",
              "      width: 32px;\n",
              "    }\n",
              "\n",
              "    .colab-df-convert:hover {\n",
              "      background-color: #E2EBFA;\n",
              "      box-shadow: 0px 1px 2px rgba(60, 64, 67, 0.3), 0px 1px 3px 1px rgba(60, 64, 67, 0.15);\n",
              "      fill: #174EA6;\n",
              "    }\n",
              "\n",
              "    .colab-df-buttons div {\n",
              "      margin-bottom: 4px;\n",
              "    }\n",
              "\n",
              "    [theme=dark] .colab-df-convert {\n",
              "      background-color: #3B4455;\n",
              "      fill: #D2E3FC;\n",
              "    }\n",
              "\n",
              "    [theme=dark] .colab-df-convert:hover {\n",
              "      background-color: #434B5C;\n",
              "      box-shadow: 0px 1px 3px 1px rgba(0, 0, 0, 0.15);\n",
              "      filter: drop-shadow(0px 1px 2px rgba(0, 0, 0, 0.3));\n",
              "      fill: #FFFFFF;\n",
              "    }\n",
              "  </style>\n",
              "\n",
              "    <script>\n",
              "      const buttonEl =\n",
              "        document.querySelector('#df-264e0677-7a53-4607-ae1c-95abdcace6c6 button.colab-df-convert');\n",
              "      buttonEl.style.display =\n",
              "        google.colab.kernel.accessAllowed ? 'block' : 'none';\n",
              "\n",
              "      async function convertToInteractive(key) {\n",
              "        const element = document.querySelector('#df-264e0677-7a53-4607-ae1c-95abdcace6c6');\n",
              "        const dataTable =\n",
              "          await google.colab.kernel.invokeFunction('convertToInteractive',\n",
              "                                                    [key], {});\n",
              "        if (!dataTable) return;\n",
              "\n",
              "        const docLinkHtml = 'Like what you see? Visit the ' +\n",
              "          '<a target=\"_blank\" href=https://colab.research.google.com/notebooks/data_table.ipynb>data table notebook</a>'\n",
              "          + ' to learn more about interactive tables.';\n",
              "        element.innerHTML = '';\n",
              "        dataTable['output_type'] = 'display_data';\n",
              "        await google.colab.output.renderOutput(dataTable, element);\n",
              "        const docLink = document.createElement('div');\n",
              "        docLink.innerHTML = docLinkHtml;\n",
              "        element.appendChild(docLink);\n",
              "      }\n",
              "    </script>\n",
              "  </div>\n",
              "\n",
              "\n",
              "<div id=\"df-597d622f-28dd-4d1a-8eef-bbb1a0faebfa\">\n",
              "  <button class=\"colab-df-quickchart\" onclick=\"quickchart('df-597d622f-28dd-4d1a-8eef-bbb1a0faebfa')\"\n",
              "            title=\"Suggest charts.\"\n",
              "            style=\"display:none;\">\n",
              "\n",
              "<svg xmlns=\"http://www.w3.org/2000/svg\" height=\"24px\"viewBox=\"0 0 24 24\"\n",
              "     width=\"24px\">\n",
              "    <g>\n",
              "        <path d=\"M19 3H5c-1.1 0-2 .9-2 2v14c0 1.1.9 2 2 2h14c1.1 0 2-.9 2-2V5c0-1.1-.9-2-2-2zM9 17H7v-7h2v7zm4 0h-2V7h2v10zm4 0h-2v-4h2v4z\"/>\n",
              "    </g>\n",
              "</svg>\n",
              "  </button>\n",
              "\n",
              "<style>\n",
              "  .colab-df-quickchart {\n",
              "      --bg-color: #E8F0FE;\n",
              "      --fill-color: #1967D2;\n",
              "      --hover-bg-color: #E2EBFA;\n",
              "      --hover-fill-color: #174EA6;\n",
              "      --disabled-fill-color: #AAA;\n",
              "      --disabled-bg-color: #DDD;\n",
              "  }\n",
              "\n",
              "  [theme=dark] .colab-df-quickchart {\n",
              "      --bg-color: #3B4455;\n",
              "      --fill-color: #D2E3FC;\n",
              "      --hover-bg-color: #434B5C;\n",
              "      --hover-fill-color: #FFFFFF;\n",
              "      --disabled-bg-color: #3B4455;\n",
              "      --disabled-fill-color: #666;\n",
              "  }\n",
              "\n",
              "  .colab-df-quickchart {\n",
              "    background-color: var(--bg-color);\n",
              "    border: none;\n",
              "    border-radius: 50%;\n",
              "    cursor: pointer;\n",
              "    display: none;\n",
              "    fill: var(--fill-color);\n",
              "    height: 32px;\n",
              "    padding: 0;\n",
              "    width: 32px;\n",
              "  }\n",
              "\n",
              "  .colab-df-quickchart:hover {\n",
              "    background-color: var(--hover-bg-color);\n",
              "    box-shadow: 0 1px 2px rgba(60, 64, 67, 0.3), 0 1px 3px 1px rgba(60, 64, 67, 0.15);\n",
              "    fill: var(--button-hover-fill-color);\n",
              "  }\n",
              "\n",
              "  .colab-df-quickchart-complete:disabled,\n",
              "  .colab-df-quickchart-complete:disabled:hover {\n",
              "    background-color: var(--disabled-bg-color);\n",
              "    fill: var(--disabled-fill-color);\n",
              "    box-shadow: none;\n",
              "  }\n",
              "\n",
              "  .colab-df-spinner {\n",
              "    border: 2px solid var(--fill-color);\n",
              "    border-color: transparent;\n",
              "    border-bottom-color: var(--fill-color);\n",
              "    animation:\n",
              "      spin 1s steps(1) infinite;\n",
              "  }\n",
              "\n",
              "  @keyframes spin {\n",
              "    0% {\n",
              "      border-color: transparent;\n",
              "      border-bottom-color: var(--fill-color);\n",
              "      border-left-color: var(--fill-color);\n",
              "    }\n",
              "    20% {\n",
              "      border-color: transparent;\n",
              "      border-left-color: var(--fill-color);\n",
              "      border-top-color: var(--fill-color);\n",
              "    }\n",
              "    30% {\n",
              "      border-color: transparent;\n",
              "      border-left-color: var(--fill-color);\n",
              "      border-top-color: var(--fill-color);\n",
              "      border-right-color: var(--fill-color);\n",
              "    }\n",
              "    40% {\n",
              "      border-color: transparent;\n",
              "      border-right-color: var(--fill-color);\n",
              "      border-top-color: var(--fill-color);\n",
              "    }\n",
              "    60% {\n",
              "      border-color: transparent;\n",
              "      border-right-color: var(--fill-color);\n",
              "    }\n",
              "    80% {\n",
              "      border-color: transparent;\n",
              "      border-right-color: var(--fill-color);\n",
              "      border-bottom-color: var(--fill-color);\n",
              "    }\n",
              "    90% {\n",
              "      border-color: transparent;\n",
              "      border-bottom-color: var(--fill-color);\n",
              "    }\n",
              "  }\n",
              "</style>\n",
              "\n",
              "  <script>\n",
              "    async function quickchart(key) {\n",
              "      const quickchartButtonEl =\n",
              "        document.querySelector('#' + key + ' button');\n",
              "      quickchartButtonEl.disabled = true;  // To prevent multiple clicks.\n",
              "      quickchartButtonEl.classList.add('colab-df-spinner');\n",
              "      try {\n",
              "        const charts = await google.colab.kernel.invokeFunction(\n",
              "            'suggestCharts', [key], {});\n",
              "      } catch (error) {\n",
              "        console.error('Error during call to suggestCharts:', error);\n",
              "      }\n",
              "      quickchartButtonEl.classList.remove('colab-df-spinner');\n",
              "      quickchartButtonEl.classList.add('colab-df-quickchart-complete');\n",
              "    }\n",
              "    (() => {\n",
              "      let quickchartButtonEl =\n",
              "        document.querySelector('#df-597d622f-28dd-4d1a-8eef-bbb1a0faebfa button');\n",
              "      quickchartButtonEl.style.display =\n",
              "        google.colab.kernel.accessAllowed ? 'block' : 'none';\n",
              "    })();\n",
              "  </script>\n",
              "</div>\n",
              "    </div>\n",
              "  </div>\n"
            ]
          },
          "metadata": {},
          "execution_count": 11
        }
      ]
    },
    {
      "cell_type": "code",
      "source": [
        "# printing last 5 entries\n",
        "data_carprice.tail(5)"
      ],
      "metadata": {
        "colab": {
          "base_uri": "https://localhost:8080/",
          "height": 359
        },
        "id": "5HyKp5FXP0gT",
        "outputId": "6bcae6e3-1244-4eda-e9af-60c5b372ba2f"
      },
      "execution_count": null,
      "outputs": [
        {
          "output_type": "execute_result",
          "data": {
            "text/plain": [
              "     car_ID  symboling          CarName fueltype aspiration doornumber  \\\n",
              "200     201         -1  volvo 145e (sw)      gas        std       four   \n",
              "201     202         -1      volvo 144ea      gas      turbo       four   \n",
              "202     203         -1      volvo 244dl      gas        std       four   \n",
              "203     204         -1        volvo 246   diesel      turbo       four   \n",
              "204     205         -1      volvo 264gl      gas      turbo       four   \n",
              "\n",
              "    carbody drivewheel enginelocation  wheelbase  ...  enginesize  fuelsystem  \\\n",
              "200   sedan        rwd          front      109.1  ...         141        mpfi   \n",
              "201   sedan        rwd          front      109.1  ...         141        mpfi   \n",
              "202   sedan        rwd          front      109.1  ...         173        mpfi   \n",
              "203   sedan        rwd          front      109.1  ...         145         idi   \n",
              "204   sedan        rwd          front      109.1  ...         141        mpfi   \n",
              "\n",
              "     boreratio  stroke compressionratio horsepower  peakrpm citympg  \\\n",
              "200       3.78    3.15              9.5        114     5400      23   \n",
              "201       3.78    3.15              8.7        160     5300      19   \n",
              "202       3.58    2.87              8.8        134     5500      18   \n",
              "203       3.01    3.40             23.0        106     4800      26   \n",
              "204       3.78    3.15              9.5        114     5400      19   \n",
              "\n",
              "     highwaympg    price  \n",
              "200          28  16845.0  \n",
              "201          25  19045.0  \n",
              "202          23  21485.0  \n",
              "203          27  22470.0  \n",
              "204          25  22625.0  \n",
              "\n",
              "[5 rows x 26 columns]"
            ],
            "text/html": [
              "\n",
              "  <div id=\"df-6d460ce8-c8bb-4e53-925a-3d3cab5200c3\" class=\"colab-df-container\">\n",
              "    <div>\n",
              "<style scoped>\n",
              "    .dataframe tbody tr th:only-of-type {\n",
              "        vertical-align: middle;\n",
              "    }\n",
              "\n",
              "    .dataframe tbody tr th {\n",
              "        vertical-align: top;\n",
              "    }\n",
              "\n",
              "    .dataframe thead th {\n",
              "        text-align: right;\n",
              "    }\n",
              "</style>\n",
              "<table border=\"1\" class=\"dataframe\">\n",
              "  <thead>\n",
              "    <tr style=\"text-align: right;\">\n",
              "      <th></th>\n",
              "      <th>car_ID</th>\n",
              "      <th>symboling</th>\n",
              "      <th>CarName</th>\n",
              "      <th>fueltype</th>\n",
              "      <th>aspiration</th>\n",
              "      <th>doornumber</th>\n",
              "      <th>carbody</th>\n",
              "      <th>drivewheel</th>\n",
              "      <th>enginelocation</th>\n",
              "      <th>wheelbase</th>\n",
              "      <th>...</th>\n",
              "      <th>enginesize</th>\n",
              "      <th>fuelsystem</th>\n",
              "      <th>boreratio</th>\n",
              "      <th>stroke</th>\n",
              "      <th>compressionratio</th>\n",
              "      <th>horsepower</th>\n",
              "      <th>peakrpm</th>\n",
              "      <th>citympg</th>\n",
              "      <th>highwaympg</th>\n",
              "      <th>price</th>\n",
              "    </tr>\n",
              "  </thead>\n",
              "  <tbody>\n",
              "    <tr>\n",
              "      <th>200</th>\n",
              "      <td>201</td>\n",
              "      <td>-1</td>\n",
              "      <td>volvo 145e (sw)</td>\n",
              "      <td>gas</td>\n",
              "      <td>std</td>\n",
              "      <td>four</td>\n",
              "      <td>sedan</td>\n",
              "      <td>rwd</td>\n",
              "      <td>front</td>\n",
              "      <td>109.1</td>\n",
              "      <td>...</td>\n",
              "      <td>141</td>\n",
              "      <td>mpfi</td>\n",
              "      <td>3.78</td>\n",
              "      <td>3.15</td>\n",
              "      <td>9.5</td>\n",
              "      <td>114</td>\n",
              "      <td>5400</td>\n",
              "      <td>23</td>\n",
              "      <td>28</td>\n",
              "      <td>16845.0</td>\n",
              "    </tr>\n",
              "    <tr>\n",
              "      <th>201</th>\n",
              "      <td>202</td>\n",
              "      <td>-1</td>\n",
              "      <td>volvo 144ea</td>\n",
              "      <td>gas</td>\n",
              "      <td>turbo</td>\n",
              "      <td>four</td>\n",
              "      <td>sedan</td>\n",
              "      <td>rwd</td>\n",
              "      <td>front</td>\n",
              "      <td>109.1</td>\n",
              "      <td>...</td>\n",
              "      <td>141</td>\n",
              "      <td>mpfi</td>\n",
              "      <td>3.78</td>\n",
              "      <td>3.15</td>\n",
              "      <td>8.7</td>\n",
              "      <td>160</td>\n",
              "      <td>5300</td>\n",
              "      <td>19</td>\n",
              "      <td>25</td>\n",
              "      <td>19045.0</td>\n",
              "    </tr>\n",
              "    <tr>\n",
              "      <th>202</th>\n",
              "      <td>203</td>\n",
              "      <td>-1</td>\n",
              "      <td>volvo 244dl</td>\n",
              "      <td>gas</td>\n",
              "      <td>std</td>\n",
              "      <td>four</td>\n",
              "      <td>sedan</td>\n",
              "      <td>rwd</td>\n",
              "      <td>front</td>\n",
              "      <td>109.1</td>\n",
              "      <td>...</td>\n",
              "      <td>173</td>\n",
              "      <td>mpfi</td>\n",
              "      <td>3.58</td>\n",
              "      <td>2.87</td>\n",
              "      <td>8.8</td>\n",
              "      <td>134</td>\n",
              "      <td>5500</td>\n",
              "      <td>18</td>\n",
              "      <td>23</td>\n",
              "      <td>21485.0</td>\n",
              "    </tr>\n",
              "    <tr>\n",
              "      <th>203</th>\n",
              "      <td>204</td>\n",
              "      <td>-1</td>\n",
              "      <td>volvo 246</td>\n",
              "      <td>diesel</td>\n",
              "      <td>turbo</td>\n",
              "      <td>four</td>\n",
              "      <td>sedan</td>\n",
              "      <td>rwd</td>\n",
              "      <td>front</td>\n",
              "      <td>109.1</td>\n",
              "      <td>...</td>\n",
              "      <td>145</td>\n",
              "      <td>idi</td>\n",
              "      <td>3.01</td>\n",
              "      <td>3.40</td>\n",
              "      <td>23.0</td>\n",
              "      <td>106</td>\n",
              "      <td>4800</td>\n",
              "      <td>26</td>\n",
              "      <td>27</td>\n",
              "      <td>22470.0</td>\n",
              "    </tr>\n",
              "    <tr>\n",
              "      <th>204</th>\n",
              "      <td>205</td>\n",
              "      <td>-1</td>\n",
              "      <td>volvo 264gl</td>\n",
              "      <td>gas</td>\n",
              "      <td>turbo</td>\n",
              "      <td>four</td>\n",
              "      <td>sedan</td>\n",
              "      <td>rwd</td>\n",
              "      <td>front</td>\n",
              "      <td>109.1</td>\n",
              "      <td>...</td>\n",
              "      <td>141</td>\n",
              "      <td>mpfi</td>\n",
              "      <td>3.78</td>\n",
              "      <td>3.15</td>\n",
              "      <td>9.5</td>\n",
              "      <td>114</td>\n",
              "      <td>5400</td>\n",
              "      <td>19</td>\n",
              "      <td>25</td>\n",
              "      <td>22625.0</td>\n",
              "    </tr>\n",
              "  </tbody>\n",
              "</table>\n",
              "<p>5 rows × 26 columns</p>\n",
              "</div>\n",
              "    <div class=\"colab-df-buttons\">\n",
              "\n",
              "  <div class=\"colab-df-container\">\n",
              "    <button class=\"colab-df-convert\" onclick=\"convertToInteractive('df-6d460ce8-c8bb-4e53-925a-3d3cab5200c3')\"\n",
              "            title=\"Convert this dataframe to an interactive table.\"\n",
              "            style=\"display:none;\">\n",
              "\n",
              "  <svg xmlns=\"http://www.w3.org/2000/svg\" height=\"24px\" viewBox=\"0 -960 960 960\">\n",
              "    <path d=\"M120-120v-720h720v720H120Zm60-500h600v-160H180v160Zm220 220h160v-160H400v160Zm0 220h160v-160H400v160ZM180-400h160v-160H180v160Zm440 0h160v-160H620v160ZM180-180h160v-160H180v160Zm440 0h160v-160H620v160Z\"/>\n",
              "  </svg>\n",
              "    </button>\n",
              "\n",
              "  <style>\n",
              "    .colab-df-container {\n",
              "      display:flex;\n",
              "      gap: 12px;\n",
              "    }\n",
              "\n",
              "    .colab-df-convert {\n",
              "      background-color: #E8F0FE;\n",
              "      border: none;\n",
              "      border-radius: 50%;\n",
              "      cursor: pointer;\n",
              "      display: none;\n",
              "      fill: #1967D2;\n",
              "      height: 32px;\n",
              "      padding: 0 0 0 0;\n",
              "      width: 32px;\n",
              "    }\n",
              "\n",
              "    .colab-df-convert:hover {\n",
              "      background-color: #E2EBFA;\n",
              "      box-shadow: 0px 1px 2px rgba(60, 64, 67, 0.3), 0px 1px 3px 1px rgba(60, 64, 67, 0.15);\n",
              "      fill: #174EA6;\n",
              "    }\n",
              "\n",
              "    .colab-df-buttons div {\n",
              "      margin-bottom: 4px;\n",
              "    }\n",
              "\n",
              "    [theme=dark] .colab-df-convert {\n",
              "      background-color: #3B4455;\n",
              "      fill: #D2E3FC;\n",
              "    }\n",
              "\n",
              "    [theme=dark] .colab-df-convert:hover {\n",
              "      background-color: #434B5C;\n",
              "      box-shadow: 0px 1px 3px 1px rgba(0, 0, 0, 0.15);\n",
              "      filter: drop-shadow(0px 1px 2px rgba(0, 0, 0, 0.3));\n",
              "      fill: #FFFFFF;\n",
              "    }\n",
              "  </style>\n",
              "\n",
              "    <script>\n",
              "      const buttonEl =\n",
              "        document.querySelector('#df-6d460ce8-c8bb-4e53-925a-3d3cab5200c3 button.colab-df-convert');\n",
              "      buttonEl.style.display =\n",
              "        google.colab.kernel.accessAllowed ? 'block' : 'none';\n",
              "\n",
              "      async function convertToInteractive(key) {\n",
              "        const element = document.querySelector('#df-6d460ce8-c8bb-4e53-925a-3d3cab5200c3');\n",
              "        const dataTable =\n",
              "          await google.colab.kernel.invokeFunction('convertToInteractive',\n",
              "                                                    [key], {});\n",
              "        if (!dataTable) return;\n",
              "\n",
              "        const docLinkHtml = 'Like what you see? Visit the ' +\n",
              "          '<a target=\"_blank\" href=https://colab.research.google.com/notebooks/data_table.ipynb>data table notebook</a>'\n",
              "          + ' to learn more about interactive tables.';\n",
              "        element.innerHTML = '';\n",
              "        dataTable['output_type'] = 'display_data';\n",
              "        await google.colab.output.renderOutput(dataTable, element);\n",
              "        const docLink = document.createElement('div');\n",
              "        docLink.innerHTML = docLinkHtml;\n",
              "        element.appendChild(docLink);\n",
              "      }\n",
              "    </script>\n",
              "  </div>\n",
              "\n",
              "\n",
              "<div id=\"df-cbfa2223-611f-4618-af1d-3e319f01fe32\">\n",
              "  <button class=\"colab-df-quickchart\" onclick=\"quickchart('df-cbfa2223-611f-4618-af1d-3e319f01fe32')\"\n",
              "            title=\"Suggest charts.\"\n",
              "            style=\"display:none;\">\n",
              "\n",
              "<svg xmlns=\"http://www.w3.org/2000/svg\" height=\"24px\"viewBox=\"0 0 24 24\"\n",
              "     width=\"24px\">\n",
              "    <g>\n",
              "        <path d=\"M19 3H5c-1.1 0-2 .9-2 2v14c0 1.1.9 2 2 2h14c1.1 0 2-.9 2-2V5c0-1.1-.9-2-2-2zM9 17H7v-7h2v7zm4 0h-2V7h2v10zm4 0h-2v-4h2v4z\"/>\n",
              "    </g>\n",
              "</svg>\n",
              "  </button>\n",
              "\n",
              "<style>\n",
              "  .colab-df-quickchart {\n",
              "      --bg-color: #E8F0FE;\n",
              "      --fill-color: #1967D2;\n",
              "      --hover-bg-color: #E2EBFA;\n",
              "      --hover-fill-color: #174EA6;\n",
              "      --disabled-fill-color: #AAA;\n",
              "      --disabled-bg-color: #DDD;\n",
              "  }\n",
              "\n",
              "  [theme=dark] .colab-df-quickchart {\n",
              "      --bg-color: #3B4455;\n",
              "      --fill-color: #D2E3FC;\n",
              "      --hover-bg-color: #434B5C;\n",
              "      --hover-fill-color: #FFFFFF;\n",
              "      --disabled-bg-color: #3B4455;\n",
              "      --disabled-fill-color: #666;\n",
              "  }\n",
              "\n",
              "  .colab-df-quickchart {\n",
              "    background-color: var(--bg-color);\n",
              "    border: none;\n",
              "    border-radius: 50%;\n",
              "    cursor: pointer;\n",
              "    display: none;\n",
              "    fill: var(--fill-color);\n",
              "    height: 32px;\n",
              "    padding: 0;\n",
              "    width: 32px;\n",
              "  }\n",
              "\n",
              "  .colab-df-quickchart:hover {\n",
              "    background-color: var(--hover-bg-color);\n",
              "    box-shadow: 0 1px 2px rgba(60, 64, 67, 0.3), 0 1px 3px 1px rgba(60, 64, 67, 0.15);\n",
              "    fill: var(--button-hover-fill-color);\n",
              "  }\n",
              "\n",
              "  .colab-df-quickchart-complete:disabled,\n",
              "  .colab-df-quickchart-complete:disabled:hover {\n",
              "    background-color: var(--disabled-bg-color);\n",
              "    fill: var(--disabled-fill-color);\n",
              "    box-shadow: none;\n",
              "  }\n",
              "\n",
              "  .colab-df-spinner {\n",
              "    border: 2px solid var(--fill-color);\n",
              "    border-color: transparent;\n",
              "    border-bottom-color: var(--fill-color);\n",
              "    animation:\n",
              "      spin 1s steps(1) infinite;\n",
              "  }\n",
              "\n",
              "  @keyframes spin {\n",
              "    0% {\n",
              "      border-color: transparent;\n",
              "      border-bottom-color: var(--fill-color);\n",
              "      border-left-color: var(--fill-color);\n",
              "    }\n",
              "    20% {\n",
              "      border-color: transparent;\n",
              "      border-left-color: var(--fill-color);\n",
              "      border-top-color: var(--fill-color);\n",
              "    }\n",
              "    30% {\n",
              "      border-color: transparent;\n",
              "      border-left-color: var(--fill-color);\n",
              "      border-top-color: var(--fill-color);\n",
              "      border-right-color: var(--fill-color);\n",
              "    }\n",
              "    40% {\n",
              "      border-color: transparent;\n",
              "      border-right-color: var(--fill-color);\n",
              "      border-top-color: var(--fill-color);\n",
              "    }\n",
              "    60% {\n",
              "      border-color: transparent;\n",
              "      border-right-color: var(--fill-color);\n",
              "    }\n",
              "    80% {\n",
              "      border-color: transparent;\n",
              "      border-right-color: var(--fill-color);\n",
              "      border-bottom-color: var(--fill-color);\n",
              "    }\n",
              "    90% {\n",
              "      border-color: transparent;\n",
              "      border-bottom-color: var(--fill-color);\n",
              "    }\n",
              "  }\n",
              "</style>\n",
              "\n",
              "  <script>\n",
              "    async function quickchart(key) {\n",
              "      const quickchartButtonEl =\n",
              "        document.querySelector('#' + key + ' button');\n",
              "      quickchartButtonEl.disabled = true;  // To prevent multiple clicks.\n",
              "      quickchartButtonEl.classList.add('colab-df-spinner');\n",
              "      try {\n",
              "        const charts = await google.colab.kernel.invokeFunction(\n",
              "            'suggestCharts', [key], {});\n",
              "      } catch (error) {\n",
              "        console.error('Error during call to suggestCharts:', error);\n",
              "      }\n",
              "      quickchartButtonEl.classList.remove('colab-df-spinner');\n",
              "      quickchartButtonEl.classList.add('colab-df-quickchart-complete');\n",
              "    }\n",
              "    (() => {\n",
              "      let quickchartButtonEl =\n",
              "        document.querySelector('#df-cbfa2223-611f-4618-af1d-3e319f01fe32 button');\n",
              "      quickchartButtonEl.style.display =\n",
              "        google.colab.kernel.accessAllowed ? 'block' : 'none';\n",
              "    })();\n",
              "  </script>\n",
              "</div>\n",
              "    </div>\n",
              "  </div>\n"
            ]
          },
          "metadata": {},
          "execution_count": 13
        }
      ]
    },
    {
      "cell_type": "markdown",
      "source": [
        "**MISSING VALUES**"
      ],
      "metadata": {
        "id": "efgVVpNGQuGJ"
      }
    },
    {
      "cell_type": "code",
      "source": [
        "#finding out the null values in the dataset\n",
        "data_carprice.isnull().sum()"
      ],
      "metadata": {
        "colab": {
          "base_uri": "https://localhost:8080/"
        },
        "id": "03KdmPrQQyyD",
        "outputId": "83d8bc89-b92b-4187-dd6d-f1756d536bc3"
      },
      "execution_count": null,
      "outputs": [
        {
          "output_type": "execute_result",
          "data": {
            "text/plain": [
              "car_ID              0\n",
              "symboling           0\n",
              "CarName             0\n",
              "fueltype            0\n",
              "aspiration          0\n",
              "doornumber          0\n",
              "carbody             0\n",
              "drivewheel          0\n",
              "enginelocation      0\n",
              "wheelbase           0\n",
              "carlength           0\n",
              "carwidth            0\n",
              "carheight           0\n",
              "curbweight          0\n",
              "enginetype          0\n",
              "cylindernumber      0\n",
              "enginesize          0\n",
              "fuelsystem          0\n",
              "boreratio           0\n",
              "stroke              0\n",
              "compressionratio    0\n",
              "horsepower          0\n",
              "peakrpm             0\n",
              "citympg             0\n",
              "highwaympg          0\n",
              "price               0\n",
              "dtype: int64"
            ]
          },
          "metadata": {},
          "execution_count": 14
        }
      ]
    },
    {
      "cell_type": "markdown",
      "source": [
        "NO NULL VALUES IN THE CAR PRICE DATA SET"
      ],
      "metadata": {
        "id": "nzbZT7dqQ7XX"
      }
    },
    {
      "cell_type": "code",
      "source": [
        "#plotting the graph showing the no of cars of a particular model\n",
        "plt.figure(figsize=(20,6))\n",
        "\n",
        "# data_carprice['CarName'].value_counts().plot(kind='bar')\n",
        "sns.countplot(x=data_carprice['CarName'])\n",
        "plt.xlabel(\"CarName\")\n",
        "plt.ylabel(\"No of cars\")\n",
        "plt.show"
      ],
      "metadata": {
        "colab": {
          "base_uri": "https://localhost:8080/",
          "height": 387
        },
        "id": "V4fW95h1P0dH",
        "outputId": "4277fce4-fc67-4673-e9c2-6ac6098a0616"
      },
      "execution_count": null,
      "outputs": [
        {
          "output_type": "execute_result",
          "data": {
            "text/plain": [
              "<function matplotlib.pyplot.show(close=None, block=None)>"
            ]
          },
          "metadata": {},
          "execution_count": 15
        },
        {
          "output_type": "display_data",
          "data": {
            "text/plain": [
              "<Figure size 2000x600 with 1 Axes>"
            ],
            "image/png": "[encoded data removed]"
          },
          "metadata": {}
        }
      ]
    },
    {
      "cell_type": "code",
      "source": [
        "#plotting a graph showing the no of cars run on diesel or gass\n",
        "plt.figure(figsize=(10,6))\n",
        "\n",
        "# data_carprice['fueltype'].value_counts().plot(kind='bar')\n",
        "sns.countplot(x=data_carprice['fueltype'])\n",
        "plt.xlabel(\"fueltype\")\n",
        "plt.ylabel(\"No of cars\")\n",
        "plt.show"
      ],
      "metadata": {
        "colab": {
          "base_uri": "https://localhost:8080/",
          "height": 559
        },
        "id": "rX8-zHjlP0aV",
        "outputId": "2713272c-2e23-473c-d9b9-e221efb6ff65"
      },
      "execution_count": null,
      "outputs": [
        {
          "output_type": "execute_result",
          "data": {
            "text/plain": [
              "<function matplotlib.pyplot.show(close=None, block=None)>"
            ]
          },
          "metadata": {},
          "execution_count": 16
        },
        {
          "output_type": "display_data",
          "data": {
            "text/plain": [
              "<Figure size 1000x600 with 1 Axes>"
            ],
            "image/png": "[encoded data removed]"
          },
          "metadata": {}
        }
      ]
    },
    {
      "cell_type": "markdown",
      "source": [
        "**Splitting data set into trainning set and testing set**"
      ],
      "metadata": {
        "id": "aL4eI1-AmFlQ"
      }
    },
    {
      "cell_type": "code",
      "source": [
        "from sklearn.model_selection import train_test_split"
      ],
      "metadata": {
        "id": "hKm0xvUbP0XX"
      },
      "execution_count": null,
      "outputs": []
    },
    {
      "cell_type": "code",
      "source": [
        "X = data_carprice.drop(['price'], axis = 1).values"
      ],
      "metadata": {
        "id": "Nv8fYKE1aKzG"
      },
      "execution_count": null,
      "outputs": []
    },
    {
      "cell_type": "code",
      "source": [
        "Y = data_carprice['price'].values"
      ],
      "metadata": {
        "id": "geBbDnblkEqq"
      },
      "execution_count": null,
      "outputs": []
    },
    {
      "cell_type": "code",
      "source": [
        "X_train,X_test,Y_train,Y_test=train_test_split(X,Y,test_size=0.2,random_state=0 )  #spilitting the data set into Training : 80% and Testing : 20%"
      ],
      "metadata": {
        "id": "gUoDsR-cP0UP"
      },
      "execution_count": null,
      "outputs": []
    },
    {
      "cell_type": "code",
      "source": [
        "X_train.shape"
      ],
      "metadata": {
        "id": "IJclI21bP0RE",
        "colab": {
          "base_uri": "https://localhost:8080/"
        },
        "outputId": "c3293c57-3a9e-4b2a-98d1-4c03bc5b75bd"
      },
      "execution_count": null,
      "outputs": [
        {
          "output_type": "execute_result",
          "data": {
            "text/plain": [
              "(164, 25)"
            ]
          },
          "metadata": {},
          "execution_count": 23
        }
      ]
    },
    {
      "cell_type": "code",
      "source": [
        "print(X)"
      ],
      "metadata": {
        "colab": {
          "base_uri": "https://localhost:8080/"
        },
        "id": "YxYgP4dMlozs",
        "outputId": "20725259-bce2-4c02-aa3b-be3790569e14"
      },
      "execution_count": null,
      "outputs": [
        {
          "output_type": "stream",
          "name": "stdout",
          "text": [
            "[[1 3 'alfa-romero giulia' ... 5000 21 27]\n",
            " [2 3 'alfa-romero stelvio' ... 5000 21 27]\n",
            " [3 1 'alfa-romero Quadrifoglio' ... 5000 19 26]\n",
            " ...\n",
            " [203 -1 'volvo 244dl' ... 5500 18 23]\n",
            " [204 -1 'volvo 246' ... 4800 26 27]\n",
            " [205 -1 'volvo 264gl' ... 5400 19 25]]\n"
          ]
        }
      ]
    },
    {
      "cell_type": "code",
      "source": [
        "Y_train.shape"
      ],
      "metadata": {
        "id": "jQbgsrw6P0OB",
        "colab": {
          "base_uri": "https://localhost:8080/"
        },
        "outputId": "2badefcf-15df-4fc7-83be-c68750a66fdd"
      },
      "execution_count": null,
      "outputs": [
        {
          "output_type": "execute_result",
          "data": {
            "text/plain": [
              "(164,)"
            ]
          },
          "metadata": {},
          "execution_count": 59
        }
      ]
    },
    {
      "cell_type": "code",
      "source": [
        "print(Y)"
      ],
      "metadata": {
        "id": "YVRdoI8HP0K-",
        "colab": {
          "base_uri": "https://localhost:8080/"
        },
        "outputId": "4404c968-7fd0-41c8-cf19-5cb450d53508"
      },
      "execution_count": null,
      "outputs": [
        {
          "output_type": "stream",
          "name": "stdout",
          "text": [
            "[13495.    16500.    16500.    13950.    17450.    15250.    17710.\n",
            " 18920.    23875.    17859.167 16430.    16925.    20970.    21105.\n",
            " 24565.    30760.    41315.    36880.     5151.     6295.     6575.\n",
            "  5572.     6377.     7957.     6229.     6692.     7609.     8558.\n",
            "  8921.    12964.     6479.     6855.     5399.     6529.     7129.\n",
            "  7295.     7295.     7895.     9095.     8845.    10295.    12945.\n",
            " 10345.     6785.     8916.5    8916.5   11048.    32250.    35550.\n",
            " 36000.     5195.     6095.     6795.     6695.     7395.    10945.\n",
            " 11845.    13645.    15645.     8845.     8495.    10595.    10245.\n",
            " 10795.    11245.    18280.    18344.    25552.    28248.    28176.\n",
            " 31600.    34184.    35056.    40960.    45400.    16503.     5389.\n",
            "  6189.     6669.     7689.     9959.     8499.    12629.    14869.\n",
            " 14489.     6989.     8189.     9279.     9279.     5499.     7099.\n",
            "  6649.     6849.     7349.     7299.     7799.     7499.     7999.\n",
            "  8249.     8949.     9549.    13499.    14399.    13499.    17199.\n",
            " 19699.    18399.    11900.    13200.    12440.    13860.    15580.\n",
            " 16900.    16695.    17075.    16630.    17950.    18150.     5572.\n",
            "  7957.     6229.     6692.     7609.     8921.    12764.    22018.\n",
            " 32528.    34028.    37028.    31400.5    9295.     9895.    11850.\n",
            " 12170.    15040.    15510.    18150.    18620.     5118.     7053.\n",
            "  7603.     7126.     7775.     9960.     9233.    11259.     7463.\n",
            " 10198.     8013.    11694.     5348.     6338.     6488.     6918.\n",
            "  7898.     8778.     6938.     7198.     7898.     7788.     7738.\n",
            "  8358.     9258.     8058.     8238.     9298.     9538.     8449.\n",
            "  9639.     9989.    11199.    11549.    17669.     8948.    10698.\n",
            "  9988.    10898.    11248.    16558.    15998.    15690.    15750.\n",
            "  7775.     7975.     7995.     8195.     8495.     9495.     9995.\n",
            " 11595.     9980.    13295.    13845.    12290.    12940.    13415.\n",
            " 15985.    16515.    18420.    18950.    16845.    19045.    21485.\n",
            " 22470.    22625.   ]\n"
          ]
        }
      ]
    },
    {
      "cell_type": "markdown",
      "source": [
        "**TRAINING THE MODEL**"
      ],
      "metadata": {
        "id": "4ht4CNFDmWfn"
      }
    },
    {
      "cell_type": "code",
      "source": [
        "from sklearn.linear_model import LinearRegression\n",
        "\n"
      ],
      "metadata": {
        "id": "CyklrVN8P0H1"
      },
      "execution_count": null,
      "outputs": []
    },
    {
      "cell_type": "code",
      "source": [
        "#assigning numeric values by replacing the string type eg. CarName alfa numero:2\n",
        "\n",
        "data_carprice['CarName'] = data_carprice['CarName'].astype('category')\n",
        "data_carprice['CarName'] = data_carprice['CarName'].cat.codes\n",
        "\n",
        "data_carprice['fueltype'] = data_carprice['fueltype'].astype('category')\n",
        "data_carprice['fueltype'] = data_carprice['fueltype'].cat.codes\n",
        "\n",
        "data_carprice['aspiration'] = data_carprice['aspiration'].astype('category')\n",
        "data_carprice['aspiration'] = data_carprice['aspiration'].cat.codes\n",
        "\n",
        "data_carprice['doornumber'] = data_carprice['doornumber'].astype('category')\n",
        "data_carprice['doornumber'] = data_carprice['doornumber'].cat.codes\n",
        "\n",
        "data_carprice['carbody'] = data_carprice['carbody'].astype('category')\n",
        "data_carprice['carbody'] = data_carprice['carbody'].cat.codes\n",
        "\n",
        "data_carprice['drivewheel'] = data_carprice['drivewheel'].astype('category')\n",
        "data_carprice['drivewheel'] = data_carprice['drivewheel'].cat.codes\n",
        "\n",
        "data_carprice['enginelocation'] = data_carprice['enginelocation'].astype('category')\n",
        "data_carprice['enginelocation'] = data_carprice['enginelocation'].cat.codes\n",
        "\n",
        "data_carprice['fuelsystem'] = data_carprice['fuelsystem'].astype('category')\n",
        "data_carprice['fuelsystem'] = data_carprice['fuelsystem'].cat.codes\n",
        "\n",
        "data_carprice['cylindernumber'] = data_carprice['cylindernumber'].astype('category')\n",
        "data_carprice['cylindernumber'] = data_carprice['cylindernumber'].cat.codes\n",
        "\n",
        "data_carprice['enginetype'] = data_carprice['enginetype'].astype('category')\n",
        "data_carprice['enginetype'] = data_carprice['enginetype'].cat.codes\n",
        "\n",
        "print(data_carprice.head())\n",
        "\n"
      ],
      "metadata": {
        "colab": {
          "base_uri": "https://localhost:8080/"
        },
        "id": "DM_BYIjcwe7A",
        "outputId": "ac39570f-2504-4f4c-af61-073cc0d6982c"
      },
      "execution_count": null,
      "outputs": [
        {
          "output_type": "stream",
          "name": "stdout",
          "text": [
            "   car_ID  symboling  CarName  fueltype  aspiration  doornumber  carbody  \\\n",
            "0       1          3        2         1           0           1        0   \n",
            "1       2          3        3         1           0           1        0   \n",
            "2       3          1        1         1           0           1        2   \n",
            "3       4          2        4         1           0           0        3   \n",
            "4       5          2        5         1           0           0        3   \n",
            "\n",
            "   drivewheel  enginelocation  wheelbase  ...  enginesize  fuelsystem  \\\n",
            "0           2               0       88.6  ...         130           5   \n",
            "1           2               0       88.6  ...         130           5   \n",
            "2           2               0       94.5  ...         152           5   \n",
            "3           1               0       99.8  ...         109           5   \n",
            "4           0               0       99.4  ...         136           5   \n",
            "\n",
            "   boreratio  stroke  compressionratio  horsepower  peakrpm  citympg  \\\n",
            "0       3.47    2.68               9.0         111     5000       21   \n",
            "1       3.47    2.68               9.0         111     5000       21   \n",
            "2       2.68    3.47               9.0         154     5000       19   \n",
            "3       3.19    3.40              10.0         102     5500       24   \n",
            "4       3.19    3.40               8.0         115     5500       18   \n",
            "\n",
            "   highwaympg    price  \n",
            "0          27  13495.0  \n",
            "1          27  16500.0  \n",
            "2          26  16500.0  \n",
            "3          30  13950.0  \n",
            "4          22  17450.0  \n",
            "\n",
            "[5 rows x 26 columns]\n"
          ]
        }
      ]
    },
    {
      "cell_type": "code",
      "source": [
        "#creating a model\n",
        "model  = LinearRegression()\n"
      ],
      "metadata": {
        "id": "2PgUYnWbP0E1"
      },
      "execution_count": null,
      "outputs": []
    },
    {
      "cell_type": "code",
      "source": [
        "#train a model using training data\n",
        "model.fit(X_train,Y_train)\n",
        "\n"
      ],
      "metadata": {
        "id": "QB5hCAUMP0Bp",
        "colab": {
          "base_uri": "https://localhost:8080/",
          "height": 74
        },
        "outputId": "cabcffdd-9d71-4b28-bad9-94c16446686b"
      },
      "execution_count": null,
      "outputs": [
        {
          "output_type": "execute_result",
          "data": {
            "text/plain": [
              "LinearRegression()"
            ],
            "text/html": [
              "<style>#sk-container-id-1 {color: black;background-color: white;}#sk-container-id-1 pre{padding: 0;}#sk-container-id-1 div.sk-toggleable {background-color: white;}#sk-container-id-1 label.sk-toggleable__label {cursor: pointer;display: block;width: 100%;margin-bottom: 0;padding: 0.3em;box-sizing: border-box;text-align: center;}#sk-container-id-1 label.sk-toggleable__label-arrow:before {content: \"▸\";float: left;margin-right: 0.25em;color: #696969;}#sk-container-id-1 label.sk-toggleable__label-arrow:hover:before {color: black;}#sk-container-id-1 div.sk-estimator:hover label.sk-toggleable__label-arrow:before {color: black;}#sk-container-id-1 div.sk-toggleable__content {max-height: 0;max-width: 0;overflow: hidden;text-align: left;background-color: #f0f8ff;}#sk-container-id-1 div.sk-toggleable__content pre {margin: 0.2em;color: black;border-radius: 0.25em;background-color: #f0f8ff;}#sk-container-id-1 input.sk-toggleable__control:checked~div.sk-toggleable__content {max-height: 200px;max-width: 100%;overflow: auto;}#sk-container-id-1 input.sk-toggleable__control:checked~label.sk-toggleable__label-arrow:before {content: \"▾\";}#sk-container-id-1 div.sk-estimator input.sk-toggleable__control:checked~label.sk-toggleable__label {background-color: #d4ebff;}#sk-container-id-1 div.sk-label input.sk-toggleable__control:checked~label.sk-toggleable__label {background-color: #d4ebff;}#sk-container-id-1 input.sk-hidden--visually {border: 0;clip: rect(1px 1px 1px 1px);clip: rect(1px, 1px, 1px, 1px);height: 1px;margin: -1px;overflow: hidden;padding: 0;position: absolute;width: 1px;}#sk-container-id-1 div.sk-estimator {font-family: monospace;background-color: #f0f8ff;border: 1px dotted black;border-radius: 0.25em;box-sizing: border-box;margin-bottom: 0.5em;}#sk-container-id-1 div.sk-estimator:hover {background-color: #d4ebff;}#sk-container-id-1 div.sk-parallel-item::after {content: \"\";width: 100%;border-bottom: 1px solid gray;flex-grow: 1;}#sk-container-id-1 div.sk-label:hover label.sk-toggleable__label {background-color: #d4ebff;}#sk-container-id-1 div.sk-serial::before {content: \"\";position: absolute;border-left: 1px solid gray;box-sizing: border-box;top: 0;bottom: 0;left: 50%;z-index: 0;}#sk-container-id-1 div.sk-serial {display: flex;flex-direction: column;align-items: center;background-color: white;padding-right: 0.2em;padding-left: 0.2em;position: relative;}#sk-container-id-1 div.sk-item {position: relative;z-index: 1;}#sk-container-id-1 div.sk-parallel {display: flex;align-items: stretch;justify-content: center;background-color: white;position: relative;}#sk-container-id-1 div.sk-item::before, #sk-container-id-1 div.sk-parallel-item::before {content: \"\";position: absolute;border-left: 1px solid gray;box-sizing: border-box;top: 0;bottom: 0;left: 50%;z-index: -1;}#sk-container-id-1 div.sk-parallel-item {display: flex;flex-direction: column;z-index: 1;position: relative;background-color: white;}#sk-container-id-1 div.sk-parallel-item:first-child::after {align-self: flex-end;width: 50%;}#sk-container-id-1 div.sk-parallel-item:last-child::after {align-self: flex-start;width: 50%;}#sk-container-id-1 div.sk-parallel-item:only-child::after {width: 0;}#sk-container-id-1 div.sk-dashed-wrapped {border: 1px dashed gray;margin: 0 0.4em 0.5em 0.4em;box-sizing: border-box;padding-bottom: 0.4em;background-color: white;}#sk-container-id-1 div.sk-label label {font-family: monospace;font-weight: bold;display: inline-block;line-height: 1.2em;}#sk-container-id-1 div.sk-label-container {text-align: center;}#sk-container-id-1 div.sk-container {/* jupyter's `normalize.less` sets `[hidden] { display: none; }` but bootstrap.min.css set `[hidden] { display: none !important; }` so we also need the `!important` here to be able to override the default hidden behavior on the sphinx rendered scikit-learn.org. See: https://github.com/scikit-learn/scikit-learn/issues/21755 */display: inline-block !important;position: relative;}#sk-container-id-1 div.sk-text-repr-fallback {display: none;}</style><div id=\"sk-container-id-1\" class=\"sk-top-container\"><div class=\"sk-text-repr-fallback\"><pre>LinearRegression()</pre><b>In a Jupyter environment, please rerun this cell to show the HTML representation or trust the notebook. <br />On GitHub, the HTML representation is unable to render, please try loading this page with nbviewer.org.</b></div><div class=\"sk-container\" hidden><div class=\"sk-item\"><div class=\"sk-estimator sk-toggleable\"><input class=\"sk-toggleable__control sk-hidden--visually\" id=\"sk-estimator-id-1\" type=\"checkbox\" checked><label for=\"sk-estimator-id-1\" class=\"sk-toggleable__label sk-toggleable__label-arrow\">LinearRegression</label><div class=\"sk-toggleable__content\"><pre>LinearRegression()</pre></div></div></div></div></div>"
            ]
          },
          "metadata": {},
          "execution_count": 66
        }
      ]
    },
    {
      "cell_type": "code",
      "source": [
        "model.intercept_"
      ],
      "metadata": {
        "id": "ibg5rQ-qPz_R",
        "colab": {
          "base_uri": "https://localhost:8080/"
        },
        "outputId": "74392ca2-0834-4766-9815-fe12aa1b2a2c"
      },
      "execution_count": null,
      "outputs": [
        {
          "output_type": "execute_result",
          "data": {
            "text/plain": [
              "-62155.83616741518"
            ]
          },
          "metadata": {},
          "execution_count": 67
        }
      ]
    },
    {
      "cell_type": "code",
      "source": [
        "model.coef_"
      ],
      "metadata": {
        "id": "QFDQOWF8Pz8g",
        "colab": {
          "base_uri": "https://localhost:8080/"
        },
        "outputId": "9246f71e-7f5c-41b6-f1b9-fcc6516d0676"
      },
      "execution_count": null,
      "outputs": [
        {
          "output_type": "execute_result",
          "data": {
            "text/plain": [
              "array([ 7.90592588e+01,  3.07509230e+02, -1.42410361e+02,  1.03500158e+03,\n",
              "        1.51540342e+03, -1.46444460e+03, -7.84739534e+02,  9.25527647e+02,\n",
              "        1.46865134e+04,  1.14815674e+02, -1.96651501e+01,  6.76975508e+02,\n",
              "        1.78248679e+02,  3.49787443e+00, -1.22875425e+02,  1.08916960e+03,\n",
              "        8.03835697e+01,  2.07232539e+01, -1.69710180e+03, -2.85405301e+03,\n",
              "        4.91159706e+00, -2.63222670e+00,  1.56973003e+00,  5.31299832e+01,\n",
              "        1.45832625e+01])"
            ]
          },
          "metadata": {},
          "execution_count": 68
        }
      ]
    },
    {
      "cell_type": "code",
      "source": [
        "model.score(X_train,Y_train) #model is 92% accurate while Predicting Price from the Training dataset"
      ],
      "metadata": {
        "id": "FDlRu4L6Pz5i",
        "colab": {
          "base_uri": "https://localhost:8080/"
        },
        "outputId": "594bdd4d-fa50-429b-edef-9bfbc65e1f63"
      },
      "execution_count": null,
      "outputs": [
        {
          "output_type": "execute_result",
          "data": {
            "text/plain": [
              "0.9220695144488036"
            ]
          },
          "metadata": {},
          "execution_count": 69
        }
      ]
    },
    {
      "cell_type": "code",
      "source": [
        "model.score(X_test,Y_test)  #model is 76.4% accurate while Predicting Price from the Testing dataset"
      ],
      "metadata": {
        "id": "pk4eSEaYPz2n",
        "colab": {
          "base_uri": "https://localhost:8080/"
        },
        "outputId": "34eb13a3-c870-4725-9819-64eacd343c2c"
      },
      "execution_count": null,
      "outputs": [
        {
          "output_type": "execute_result",
          "data": {
            "text/plain": [
              "0.7641334409441399"
            ]
          },
          "metadata": {},
          "execution_count": 70
        }
      ]
    },
    {
      "cell_type": "markdown",
      "source": [
        "**Predicting the test results**"
      ],
      "metadata": {
        "id": "_09GrYI_X8aY"
      }
    },
    {
      "cell_type": "code",
      "source": [
        " Y_pred_test =model.predict(X_test) #Predicting price from the testing dataset"
      ],
      "metadata": {
        "id": "IowvJfqnPzzf"
      },
      "execution_count": null,
      "outputs": []
    },
    {
      "cell_type": "code",
      "source": [
        "print(Y_pred_test)"
      ],
      "metadata": {
        "colab": {
          "base_uri": "https://localhost:8080/"
        },
        "id": "zyWucCxxXpoN",
        "outputId": "8959d9d1-c1ea-46f8-c062-f9bcbd4ce141"
      },
      "execution_count": null,
      "outputs": [
        {
          "output_type": "stream",
          "name": "stdout",
          "text": [
            "[ 4838.44522235 17791.96485255 13281.89609093  4998.96824328\n",
            " 10145.09805948 11915.56298093  7273.91350059  5302.00370191\n",
            " 19247.85292267  7681.1179757  16926.20414232 22395.57608963\n",
            " 11722.37286116 11745.82880633  7354.71531202 10746.44662309\n",
            "  9274.35589895 19962.65341746  9821.30242199  6823.28825805\n",
            " 10783.6507206  19569.8734405   8837.165637   13041.23264335\n",
            " 20766.05674086  7251.93589346  5277.13134767 20161.22996644\n",
            "  7839.02414733 15627.06851337  7976.30712281 10992.10159328\n",
            " 15250.86625252 10196.19171442  6676.89929492 24887.14041915\n",
            "  8302.61970031 14947.21400519  7032.40515667 37792.92711347\n",
            "  6138.70544338]\n"
          ]
        }
      ]
    },
    {
      "cell_type": "code",
      "source": [
        "Y_pred_test.shape"
      ],
      "metadata": {
        "id": "Bb6QQSF8Pzwn",
        "colab": {
          "base_uri": "https://localhost:8080/"
        },
        "outputId": "19619784-1760-4a81-daa0-044e18878878"
      },
      "execution_count": null,
      "outputs": [
        {
          "output_type": "execute_result",
          "data": {
            "text/plain": [
              "(41,)"
            ]
          },
          "metadata": {},
          "execution_count": 72
        }
      ]
    },
    {
      "cell_type": "code",
      "source": [
        "X_test[20].shape"
      ],
      "metadata": {
        "id": "xU9YnXjcPzeZ",
        "colab": {
          "base_uri": "https://localhost:8080/"
        },
        "outputId": "51ad78cb-0810-491d-d729-a190b043a8df"
      },
      "execution_count": null,
      "outputs": [
        {
          "output_type": "execute_result",
          "data": {
            "text/plain": [
              "(25,)"
            ]
          },
          "metadata": {},
          "execution_count": 78
        }
      ]
    },
    {
      "cell_type": "code",
      "source": [
        "a=X_test[25].reshape(1,25)\n",
        "print(a)"
      ],
      "metadata": {
        "colab": {
          "base_uri": "https://localhost:8080/"
        },
        "id": "yDsDKrljUJEN",
        "outputId": "27395a5f-7142-4885-d8db-19ddbabb8c91"
      },
      "execution_count": null,
      "outputs": [
        {
          "output_type": "stream",
          "name": "stdout",
          "text": [
            "[[1.390e+02 2.000e+00 1.040e+02 1.000e+00 0.000e+00 1.000e+00 2.000e+00\n",
            "  1.000e+00 0.000e+00 9.370e+01 1.569e+02 6.340e+01 5.370e+01 2.050e+03\n",
            "  4.000e+00 2.000e+00 9.700e+01 1.000e+00 3.620e+00 2.360e+00 9.000e+00\n",
            "  6.900e+01 4.900e+03 3.100e+01 3.600e+01]]\n"
          ]
        }
      ]
    },
    {
      "cell_type": "code",
      "source": [
        "model.predict(a)"
      ],
      "metadata": {
        "colab": {
          "base_uri": "https://localhost:8080/"
        },
        "id": "uFv-Z3Z9UK9t",
        "outputId": "ab8cc62d-b4d7-45de-f3ba-91062a4d7402"
      },
      "execution_count": null,
      "outputs": [
        {
          "output_type": "execute_result",
          "data": {
            "text/plain": [
              "array([7251.93589346])"
            ]
          },
          "metadata": {},
          "execution_count": 110
        }
      ]
    },
    {
      "cell_type": "markdown",
      "source": [
        "**EVALUATE THE MODEL**"
      ],
      "metadata": {
        "id": "vB0RY0L5chYU"
      }
    },
    {
      "cell_type": "code",
      "source": [
        "from sklearn.metrics import r2_score, mean_squared_error, mean_absolute_error\n",
        "Y_pred_train=model.predict(X_train)\n",
        "Y_pred_test= model.predict(X_test)\n",
        "\n",
        "r2_score(Y_test,Y_pred_test)\n"
      ],
      "metadata": {
        "colab": {
          "base_uri": "https://localhost:8080/"
        },
        "id": "WrG_NeldUK6a",
        "outputId": "7a9aa0d9-0959-4f33-8157-7883cfa8201e"
      },
      "execution_count": null,
      "outputs": [
        {
          "output_type": "execute_result",
          "data": {
            "text/plain": [
              "0.7641334409441399"
            ]
          },
          "metadata": {},
          "execution_count": 127
        }
      ]
    },
    {
      "cell_type": "code",
      "source": [
        "\n",
        "r2_score(Y_train,Y_pred_train)\n"
      ],
      "metadata": {
        "colab": {
          "base_uri": "https://localhost:8080/"
        },
        "id": "dFeG3WHUfX3R",
        "outputId": "e667fb2a-e79a-434b-d98b-1239e0834fcd"
      },
      "execution_count": null,
      "outputs": [
        {
          "output_type": "execute_result",
          "data": {
            "text/plain": [
              "0.9220695144488036"
            ]
          },
          "metadata": {},
          "execution_count": 129
        }
      ]
    },
    {
      "cell_type": "markdown",
      "source": [
        "**PLOT THE RESULTS**"
      ],
      "metadata": {
        "id": "qI2hkisndkc8"
      }
    },
    {
      "cell_type": "code",
      "source": [
        "import matplotlib.pyplot as plt\n",
        "plt.figure(figsize=(10,15))"
      ],
      "metadata": {
        "colab": {
          "base_uri": "https://localhost:8080/",
          "height": 52
        },
        "id": "9yKYk-0gd3L7",
        "outputId": "82e3a53f-dfa6-4590-8b1d-1fc1c9c1e79f"
      },
      "execution_count": null,
      "outputs": [
        {
          "output_type": "execute_result",
          "data": {
            "text/plain": [
              "<Figure size 1000x1500 with 0 Axes>"
            ]
          },
          "metadata": {},
          "execution_count": 123
        },
        {
          "output_type": "display_data",
          "data": {
            "text/plain": [
              "<Figure size 1000x1500 with 0 Axes>"
            ]
          },
          "metadata": {}
        }
      ]
    },
    {
      "cell_type": "code",
      "source": [
        "#Plotting graph between Actual and predicted price by the model from the Testing dataset\n",
        "plt.scatter(Y_test,Y_pred_test)\n",
        "plt.xlabel('Actual')\n",
        "plt.ylabel('Predicted')\n",
        "plt.title('Actual v/s Predicted(TESTING)')\n",
        "\n",
        "plt.show()"
      ],
      "metadata": {
        "colab": {
          "base_uri": "https://localhost:8080/",
          "height": 472
        },
        "id": "4FNGV_mmUK3Q",
        "outputId": "8e0d1506-ce6c-4ef6-fc64-c1cf8f156109"
      },
      "execution_count": null,
      "outputs": [
        {
          "output_type": "display_data",
          "data": {
            "text/plain": [
              "<Figure size 640x480 with 1 Axes>"
            ],
            "image/png": "[encoded data removed]"
          },
          "metadata": {}
        }
      ]
    },
    {
      "cell_type": "code",
      "source": [
        "plt.figure(figsize=(10,15))"
      ],
      "metadata": {
        "colab": {
          "base_uri": "https://localhost:8080/",
          "height": 52
        },
        "id": "mob4zCpPgbp0",
        "outputId": "86fd318d-4e7d-4f03-c06f-49967ba6815c"
      },
      "execution_count": null,
      "outputs": [
        {
          "output_type": "execute_result",
          "data": {
            "text/plain": [
              "<Figure size 1000x1500 with 0 Axes>"
            ]
          },
          "metadata": {},
          "execution_count": 130
        },
        {
          "output_type": "display_data",
          "data": {
            "text/plain": [
              "<Figure size 1000x1500 with 0 Axes>"
            ]
          },
          "metadata": {}
        }
      ]
    },
    {
      "cell_type": "code",
      "source": [
        "#Plotting graph between Actual and predicted price by the model from the Training dataset\n",
        "plt.scatter(Y_train,Y_pred_train)\n",
        "plt.xlabel('Actual')\n",
        "plt.ylabel('Predicted')\n",
        "plt.title('Actual v/s Predicted(TRAINING)')\n",
        "plt.show()"
      ],
      "metadata": {
        "colab": {
          "base_uri": "https://localhost:8080/",
          "height": 472
        },
        "id": "1gE5t6XPUK0o",
        "outputId": "a50bcb83-8eab-4873-ea5a-345feb577c93"
      },
      "execution_count": null,
      "outputs": [
        {
          "output_type": "display_data",
          "data": {
            "text/plain": [
              "<Figure size 640x480 with 1 Axes>"
            ],
            "image/png": "[encoded data removed]"
          },
          "metadata": {}
        }
      ]
    },
    {
      "cell_type": "markdown",
      "source": [
        "**PREDICTED VALUES**"
      ],
      "metadata": {
        "id": "OJUt49Qrg5Hg"
      }
    },
    {
      "cell_type": "code",
      "source": [
        "pred_Y_df = pd.DataFrame({'Actual Value':Y_test,'Predicted Value':Y_pred_test,'Difference':Y_test - Y_pred_test})"
      ],
      "metadata": {
        "id": "LUAkPBfjg-1-"
      },
      "execution_count": null,
      "outputs": []
    },
    {
      "cell_type": "code",
      "source": [
        "pred_Y_df.head(20)"
      ],
      "metadata": {
        "colab": {
          "base_uri": "https://localhost:8080/",
          "height": 676
        },
        "id": "tgXcPyXuUKxs",
        "outputId": "7e91b689-c83b-4962-cd0d-109d0033d1b0"
      },
      "execution_count": null,
      "outputs": [
        {
          "output_type": "execute_result",
          "data": {
            "text/plain": [
              "    Actual Value  Predicted Value   Difference\n",
              "0         6795.0      4838.445222  1956.554778\n",
              "1        15750.0     17791.964853 -2041.964853\n",
              "2        15250.0     13281.896091  1968.103909\n",
              "3         5151.0      4998.968243   152.031757\n",
              "4         9995.0     10145.098059  -150.098059\n",
              "5        11199.0     11915.562981  -716.562981\n",
              "6         5389.0      7273.913501 -1884.913501\n",
              "7         7898.0      5302.003702  2595.996298\n",
              "8        17199.0     19247.852923 -2048.852923\n",
              "9         6529.0      7681.117976 -1152.117976\n",
              "10       20970.0     16926.204142  4043.795858\n",
              "11       31400.5     22395.576090  9004.923910\n",
              "12       10945.0     11722.372861  -777.372861\n",
              "13       18344.0     11745.828806  6598.171194\n",
              "14        8916.5      7354.715312  1561.784688\n",
              "15        9989.0     10746.446623  -757.446623\n",
              "16        9295.0      9274.355899    20.644101\n",
              "17       18920.0     19962.653417 -1042.653417\n",
              "18        7895.0      9821.302422 -1926.302422\n",
              "19        6488.0      6823.288258  -335.288258"
            ],
            "text/html": [
              "\n",
              "  <div id=\"df-d3446526-c5fe-49d5-bbf1-a02c713d5a95\" class=\"colab-df-container\">\n",
              "    <div>\n",
              "<style scoped>\n",
              "    .dataframe tbody tr th:only-of-type {\n",
              "        vertical-align: middle;\n",
              "    }\n",
              "\n",
              "    .dataframe tbody tr th {\n",
              "        vertical-align: top;\n",
              "    }\n",
              "\n",
              "    .dataframe thead th {\n",
              "        text-align: right;\n",
              "    }\n",
              "</style>\n",
              "<table border=\"1\" class=\"dataframe\">\n",
              "  <thead>\n",
              "    <tr style=\"text-align: right;\">\n",
              "      <th></th>\n",
              "      <th>Actual Value</th>\n",
              "      <th>Predicted Value</th>\n",
              "      <th>Difference</th>\n",
              "    </tr>\n",
              "  </thead>\n",
              "  <tbody>\n",
              "    <tr>\n",
              "      <th>0</th>\n",
              "      <td>6795.0</td>\n",
              "      <td>4838.445222</td>\n",
              "      <td>1956.554778</td>\n",
              "    </tr>\n",
              "    <tr>\n",
              "      <th>1</th>\n",
              "      <td>15750.0</td>\n",
              "      <td>17791.964853</td>\n",
              "      <td>-2041.964853</td>\n",
              "    </tr>\n",
              "    <tr>\n",
              "      <th>2</th>\n",
              "      <td>15250.0</td>\n",
              "      <td>13281.896091</td>\n",
              "      <td>1968.103909</td>\n",
              "    </tr>\n",
              "    <tr>\n",
              "      <th>3</th>\n",
              "      <td>5151.0</td>\n",
              "      <td>4998.968243</td>\n",
              "      <td>152.031757</td>\n",
              "    </tr>\n",
              "    <tr>\n",
              "      <th>4</th>\n",
              "      <td>9995.0</td>\n",
              "      <td>10145.098059</td>\n",
              "      <td>-150.098059</td>\n",
              "    </tr>\n",
              "    <tr>\n",
              "      <th>5</th>\n",
              "      <td>11199.0</td>\n",
              "      <td>11915.562981</td>\n",
              "      <td>-716.562981</td>\n",
              "    </tr>\n",
              "    <tr>\n",
              "      <th>6</th>\n",
              "      <td>5389.0</td>\n",
              "      <td>7273.913501</td>\n",
              "      <td>-1884.913501</td>\n",
              "    </tr>\n",
              "    <tr>\n",
              "      <th>7</th>\n",
              "      <td>7898.0</td>\n",
              "      <td>5302.003702</td>\n",
              "      <td>2595.996298</td>\n",
              "    </tr>\n",
              "    <tr>\n",
              "      <th>8</th>\n",
              "      <td>17199.0</td>\n",
              "      <td>19247.852923</td>\n",
              "      <td>-2048.852923</td>\n",
              "    </tr>\n",
              "    <tr>\n",
              "      <th>9</th>\n",
              "      <td>6529.0</td>\n",
              "      <td>7681.117976</td>\n",
              "      <td>-1152.117976</td>\n",
              "    </tr>\n",
              "    <tr>\n",
              "      <th>10</th>\n",
              "      <td>20970.0</td>\n",
              "      <td>16926.204142</td>\n",
              "      <td>4043.795858</td>\n",
              "    </tr>\n",
              "    <tr>\n",
              "      <th>11</th>\n",
              "      <td>31400.5</td>\n",
              "      <td>22395.576090</td>\n",
              "      <td>9004.923910</td>\n",
              "    </tr>\n",
              "    <tr>\n",
              "      <th>12</th>\n",
              "      <td>10945.0</td>\n",
              "      <td>11722.372861</td>\n",
              "      <td>-777.372861</td>\n",
              "    </tr>\n",
              "    <tr>\n",
              "      <th>13</th>\n",
              "      <td>18344.0</td>\n",
              "      <td>11745.828806</td>\n",
              "      <td>6598.171194</td>\n",
              "    </tr>\n",
              "    <tr>\n",
              "      <th>14</th>\n",
              "      <td>8916.5</td>\n",
              "      <td>7354.715312</td>\n",
              "      <td>1561.784688</td>\n",
              "    </tr>\n",
              "    <tr>\n",
              "      <th>15</th>\n",
              "      <td>9989.0</td>\n",
              "      <td>10746.446623</td>\n",
              "      <td>-757.446623</td>\n",
              "    </tr>\n",
              "    <tr>\n",
              "      <th>16</th>\n",
              "      <td>9295.0</td>\n",
              "      <td>9274.355899</td>\n",
              "      <td>20.644101</td>\n",
              "    </tr>\n",
              "    <tr>\n",
              "      <th>17</th>\n",
              "      <td>18920.0</td>\n",
              "      <td>19962.653417</td>\n",
              "      <td>-1042.653417</td>\n",
              "    </tr>\n",
              "    <tr>\n",
              "      <th>18</th>\n",
              "      <td>7895.0</td>\n",
              "      <td>9821.302422</td>\n",
              "      <td>-1926.302422</td>\n",
              "    </tr>\n",
              "    <tr>\n",
              "      <th>19</th>\n",
              "      <td>6488.0</td>\n",
              "      <td>6823.288258</td>\n",
              "      <td>-335.288258</td>\n",
              "    </tr>\n",
              "  </tbody>\n",
              "</table>\n",
              "</div>\n",
              "    <div class=\"colab-df-buttons\">\n",
              "\n",
              "  <div class=\"colab-df-container\">\n",
              "    <button class=\"colab-df-convert\" onclick=\"convertToInteractive('df-d3446526-c5fe-49d5-bbf1-a02c713d5a95')\"\n",
              "            title=\"Convert this dataframe to an interactive table.\"\n",
              "            style=\"display:none;\">\n",
              "\n",
              "  <svg xmlns=\"http://www.w3.org/2000/svg\" height=\"24px\" viewBox=\"0 -960 960 960\">\n",
              "    <path d=\"M120-120v-720h720v720H120Zm60-500h600v-160H180v160Zm220 220h160v-160H400v160Zm0 220h160v-160H400v160ZM180-400h160v-160H180v160Zm440 0h160v-160H620v160ZM180-180h160v-160H180v160Zm440 0h160v-160H620v160Z\"/>\n",
              "  </svg>\n",
              "    </button>\n",
              "\n",
              "  <style>\n",
              "    .colab-df-container {\n",
              "      display:flex;\n",
              "      gap: 12px;\n",
              "    }\n",
              "\n",
              "    .colab-df-convert {\n",
              "      background-color: #E8F0FE;\n",
              "      border: none;\n",
              "      border-radius: 50%;\n",
              "      cursor: pointer;\n",
              "      display: none;\n",
              "      fill: #1967D2;\n",
              "      height: 32px;\n",
              "      padding: 0 0 0 0;\n",
              "      width: 32px;\n",
              "    }\n",
              "\n",
              "    .colab-df-convert:hover {\n",
              "      background-color: #E2EBFA;\n",
              "      box-shadow: 0px 1px 2px rgba(60, 64, 67, 0.3), 0px 1px 3px 1px rgba(60, 64, 67, 0.15);\n",
              "      fill: #174EA6;\n",
              "    }\n",
              "\n",
              "    .colab-df-buttons div {\n",
              "      margin-bottom: 4px;\n",
              "    }\n",
              "\n",
              "    [theme=dark] .colab-df-convert {\n",
              "      background-color: #3B4455;\n",
              "      fill: #D2E3FC;\n",
              "    }\n",
              "\n",
              "    [theme=dark] .colab-df-convert:hover {\n",
              "      background-color: #434B5C;\n",
              "      box-shadow: 0px 1px 3px 1px rgba(0, 0, 0, 0.15);\n",
              "      filter: drop-shadow(0px 1px 2px rgba(0, 0, 0, 0.3));\n",
              "      fill: #FFFFFF;\n",
              "    }\n",
              "  </style>\n",
              "\n",
              "    <script>\n",
              "      const buttonEl =\n",
              "        document.querySelector('#df-d3446526-c5fe-49d5-bbf1-a02c713d5a95 button.colab-df-convert');\n",
              "      buttonEl.style.display =\n",
              "        google.colab.kernel.accessAllowed ? 'block' : 'none';\n",
              "\n",
              "      async function convertToInteractive(key) {\n",
              "        const element = document.querySelector('#df-d3446526-c5fe-49d5-bbf1-a02c713d5a95');\n",
              "        const dataTable =\n",
              "          await google.colab.kernel.invokeFunction('convertToInteractive',\n",
              "                                                    [key], {});\n",
              "        if (!dataTable) return;\n",
              "\n",
              "        const docLinkHtml = 'Like what you see? Visit the ' +\n",
              "          '<a target=\"_blank\" href=https://colab.research.google.com/notebooks/data_table.ipynb>data table notebook</a>'\n",
              "          + ' to learn more about interactive tables.';\n",
              "        element.innerHTML = '';\n",
              "        dataTable['output_type'] = 'display_data';\n",
              "        await google.colab.output.renderOutput(dataTable, element);\n",
              "        const docLink = document.createElement('div');\n",
              "        docLink.innerHTML = docLinkHtml;\n",
              "        element.appendChild(docLink);\n",
              "      }\n",
              "    </script>\n",
              "  </div>\n",
              "\n",
              "\n",
              "<div id=\"df-6b43da68-bb3c-4bb0-aa44-20a1fb39c5b1\">\n",
              "  <button class=\"colab-df-quickchart\" onclick=\"quickchart('df-6b43da68-bb3c-4bb0-aa44-20a1fb39c5b1')\"\n",
              "            title=\"Suggest charts.\"\n",
              "            style=\"display:none;\">\n",
              "\n",
              "<svg xmlns=\"http://www.w3.org/2000/svg\" height=\"24px\"viewBox=\"0 0 24 24\"\n",
              "     width=\"24px\">\n",
              "    <g>\n",
              "        <path d=\"M19 3H5c-1.1 0-2 .9-2 2v14c0 1.1.9 2 2 2h14c1.1 0 2-.9 2-2V5c0-1.1-.9-2-2-2zM9 17H7v-7h2v7zm4 0h-2V7h2v10zm4 0h-2v-4h2v4z\"/>\n",
              "    </g>\n",
              "</svg>\n",
              "  </button>\n",
              "\n",
              "<style>\n",
              "  .colab-df-quickchart {\n",
              "      --bg-color: #E8F0FE;\n",
              "      --fill-color: #1967D2;\n",
              "      --hover-bg-color: #E2EBFA;\n",
              "      --hover-fill-color: #174EA6;\n",
              "      --disabled-fill-color: #AAA;\n",
              "      --disabled-bg-color: #DDD;\n",
              "  }\n",
              "\n",
              "  [theme=dark] .colab-df-quickchart {\n",
              "      --bg-color: #3B4455;\n",
              "      --fill-color: #D2E3FC;\n",
              "      --hover-bg-color: #434B5C;\n",
              "      --hover-fill-color: #FFFFFF;\n",
              "      --disabled-bg-color: #3B4455;\n",
              "      --disabled-fill-color: #666;\n",
              "  }\n",
              "\n",
              "  .colab-df-quickchart {\n",
              "    background-color: var(--bg-color);\n",
              "    border: none;\n",
              "    border-radius: 50%;\n",
              "    cursor: pointer;\n",
              "    display: none;\n",
              "    fill: var(--fill-color);\n",
              "    height: 32px;\n",
              "    padding: 0;\n",
              "    width: 32px;\n",
              "  }\n",
              "\n",
              "  .colab-df-quickchart:hover {\n",
              "    background-color: var(--hover-bg-color);\n",
              "    box-shadow: 0 1px 2px rgba(60, 64, 67, 0.3), 0 1px 3px 1px rgba(60, 64, 67, 0.15);\n",
              "    fill: var(--button-hover-fill-color);\n",
              "  }\n",
              "\n",
              "  .colab-df-quickchart-complete:disabled,\n",
              "  .colab-df-quickchart-complete:disabled:hover {\n",
              "    background-color: var(--disabled-bg-color);\n",
              "    fill: var(--disabled-fill-color);\n",
              "    box-shadow: none;\n",
              "  }\n",
              "\n",
              "  .colab-df-spinner {\n",
              "    border: 2px solid var(--fill-color);\n",
              "    border-color: transparent;\n",
              "    border-bottom-color: var(--fill-color);\n",
              "    animation:\n",
              "      spin 1s steps(1) infinite;\n",
              "  }\n",
              "\n",
              "  @keyframes spin {\n",
              "    0% {\n",
              "      border-color: transparent;\n",
              "      border-bottom-color: var(--fill-color);\n",
              "      border-left-color: var(--fill-color);\n",
              "    }\n",
              "    20% {\n",
              "      border-color: transparent;\n",
              "      border-left-color: var(--fill-color);\n",
              "      border-top-color: var(--fill-color);\n",
              "    }\n",
              "    30% {\n",
              "      border-color: transparent;\n",
              "      border-left-color: var(--fill-color);\n",
              "      border-top-color: var(--fill-color);\n",
              "      border-right-color: var(--fill-color);\n",
              "    }\n",
              "    40% {\n",
              "      border-color: transparent;\n",
              "      border-right-color: var(--fill-color);\n",
              "      border-top-color: var(--fill-color);\n",
              "    }\n",
              "    60% {\n",
              "      border-color: transparent;\n",
              "      border-right-color: var(--fill-color);\n",
              "    }\n",
              "    80% {\n",
              "      border-color: transparent;\n",
              "      border-right-color: var(--fill-color);\n",
              "      border-bottom-color: var(--fill-color);\n",
              "    }\n",
              "    90% {\n",
              "      border-color: transparent;\n",
              "      border-bottom-color: var(--fill-color);\n",
              "    }\n",
              "  }\n",
              "</style>\n",
              "\n",
              "  <script>\n",
              "    async function quickchart(key) {\n",
              "      const quickchartButtonEl =\n",
              "        document.querySelector('#' + key + ' button');\n",
              "      quickchartButtonEl.disabled = true;  // To prevent multiple clicks.\n",
              "      quickchartButtonEl.classList.add('colab-df-spinner');\n",
              "      try {\n",
              "        const charts = await google.colab.kernel.invokeFunction(\n",
              "            'suggestCharts', [key], {});\n",
              "      } catch (error) {\n",
              "        console.error('Error during call to suggestCharts:', error);\n",
              "      }\n",
              "      quickchartButtonEl.classList.remove('colab-df-spinner');\n",
              "      quickchartButtonEl.classList.add('colab-df-quickchart-complete');\n",
              "    }\n",
              "    (() => {\n",
              "      let quickchartButtonEl =\n",
              "        document.querySelector('#df-6b43da68-bb3c-4bb0-aa44-20a1fb39c5b1 button');\n",
              "      quickchartButtonEl.style.display =\n",
              "        google.colab.kernel.accessAllowed ? 'block' : 'none';\n",
              "    })();\n",
              "  </script>\n",
              "</div>\n",
              "    </div>\n",
              "  </div>\n"
            ]
          },
          "metadata": {},
          "execution_count": 134
        }
      ]
    },
    {
      "cell_type": "code",
      "source": [],
      "metadata": {
        "id": "aLUdmvRBUKuh"
      },
      "execution_count": null,
      "outputs": []
    },
    {
      "cell_type": "code",
      "source": [],
      "metadata": {
        "id": "xmTJOaB6UKi-"
      },
      "execution_count": null,
      "outputs": []
    }
  ]
}